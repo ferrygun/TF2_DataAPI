{
  "nbformat": 4,
  "nbformat_minor": 0,
  "metadata": {
    "colab": {
      "name": "tutorial_tfdataset.ipynb",
      "provenance": [],
      "collapsed_sections": []
    },
    "kernelspec": {
      "name": "python3",
      "display_name": "Python 3"
    },
    "accelerator": "GPU"
  },
  "cells": [
    {
      "cell_type": "code",
      "metadata": {
        "id": "Rf8PzKJ1jYc9"
      },
      "source": [
        "# Python ≥3.5 is required\n",
        "import sys\n",
        "assert sys.version_info >= (3, 5)\n",
        "\n",
        "# Scikit-Learn ≥0.20 is required\n",
        "import sklearn\n",
        "assert sklearn.__version__ >= \"0.20\"\n",
        "\n",
        "# TensorFlow ≥2.0 is required\n",
        "import tensorflow as tf\n",
        "from tensorflow import keras\n",
        "assert tf.__version__ >= \"2.0\"\n",
        "\n",
        "# Common imports\n",
        "import numpy as np\n",
        "import os\n",
        "\n",
        "# to make this notebook's output stable across runs\n",
        "np.random.seed(42)\n",
        "\n",
        "# To plot pretty figures\n",
        "%matplotlib inline\n",
        "import matplotlib as mpl\n",
        "import matplotlib.pyplot as plt\n",
        "mpl.rc('axes', labelsize=14)\n",
        "mpl.rc('xtick', labelsize=12)\n",
        "mpl.rc('ytick', labelsize=12)\n",
        "\n",
        "# Where to save the figures\n",
        "PROJECT_ROOT_DIR = \".\"\n",
        "CHAPTER_ID = \"data\"\n",
        "IMAGES_PATH = os.path.join(PROJECT_ROOT_DIR, \"images\", CHAPTER_ID)\n",
        "os.makedirs(IMAGES_PATH, exist_ok=True)\n",
        "\n",
        "def save_fig(fig_id, tight_layout=True, fig_extension=\"png\", resolution=300):\n",
        "    path = os.path.join(IMAGES_PATH, fig_id + \".\" + fig_extension)\n",
        "    print(\"Saving figure\", fig_id)\n",
        "    if tight_layout:\n",
        "        plt.tight_layout()\n",
        "    plt.savefig(path, format=fig_extension, dpi=resolution)"
      ],
      "execution_count": 22,
      "outputs": []
    },
    {
      "cell_type": "code",
      "metadata": {
        "id": "9zyzIIgPI7z1",
        "outputId": "ed7455cd-31a2-4ae7-8f3e-f9bbd31510d7",
        "colab": {
          "base_uri": "https://localhost:8080/",
          "height": 35
        }
      },
      "source": [
        "X = tf.range(10)\n",
        "dataset = tf.data.Dataset.from_tensor_slices(X)\n",
        "dataset"
      ],
      "execution_count": 23,
      "outputs": [
        {
          "output_type": "execute_result",
          "data": {
            "text/plain": [
              "<TensorSliceDataset shapes: (), types: tf.int32>"
            ]
          },
          "metadata": {
            "tags": []
          },
          "execution_count": 23
        }
      ]
    },
    {
      "cell_type": "code",
      "metadata": {
        "id": "IiPu0y96OrPd",
        "outputId": "b728bb57-2b83-4119-ae1d-dc7794c7ed31",
        "colab": {
          "base_uri": "https://localhost:8080/",
          "height": 195
        }
      },
      "source": [
        "dataset = tf.data.Dataset.range(10)\n",
        "for item in dataset:\n",
        "    print(item)"
      ],
      "execution_count": 24,
      "outputs": [
        {
          "output_type": "stream",
          "text": [
            "tf.Tensor(0, shape=(), dtype=int64)\n",
            "tf.Tensor(1, shape=(), dtype=int64)\n",
            "tf.Tensor(2, shape=(), dtype=int64)\n",
            "tf.Tensor(3, shape=(), dtype=int64)\n",
            "tf.Tensor(4, shape=(), dtype=int64)\n",
            "tf.Tensor(5, shape=(), dtype=int64)\n",
            "tf.Tensor(6, shape=(), dtype=int64)\n",
            "tf.Tensor(7, shape=(), dtype=int64)\n",
            "tf.Tensor(8, shape=(), dtype=int64)\n",
            "tf.Tensor(9, shape=(), dtype=int64)\n"
          ],
          "name": "stdout"
        }
      ]
    },
    {
      "cell_type": "code",
      "metadata": {
        "id": "9fzBXxe6R0_X",
        "outputId": "5cee20db-d17e-4d76-8e8d-778a4931836e",
        "colab": {
          "base_uri": "https://localhost:8080/",
          "height": 106
        }
      },
      "source": [
        "dataset = dataset.repeat(3).batch(7)\n",
        "for item in dataset:\n",
        "    print(item)"
      ],
      "execution_count": 25,
      "outputs": [
        {
          "output_type": "stream",
          "text": [
            "tf.Tensor([0 1 2 3 4 5 6], shape=(7,), dtype=int64)\n",
            "tf.Tensor([7 8 9 0 1 2 3], shape=(7,), dtype=int64)\n",
            "tf.Tensor([4 5 6 7 8 9 0], shape=(7,), dtype=int64)\n",
            "tf.Tensor([1 2 3 4 5 6 7], shape=(7,), dtype=int64)\n",
            "tf.Tensor([8 9], shape=(2,), dtype=int64)\n"
          ],
          "name": "stdout"
        }
      ]
    },
    {
      "cell_type": "code",
      "metadata": {
        "id": "HHRzUjEjUZ6E"
      },
      "source": [
        "dataset = dataset.map(lambda x: x * 2)"
      ],
      "execution_count": 26,
      "outputs": []
    },
    {
      "cell_type": "code",
      "metadata": {
        "id": "LtLOPfm-UdFy",
        "outputId": "cb0e5ddd-ef6e-4ac8-84e0-2cdaa3a48125",
        "colab": {
          "base_uri": "https://localhost:8080/",
          "height": 106
        }
      },
      "source": [
        "for item in dataset:\n",
        "    print(item)"
      ],
      "execution_count": 27,
      "outputs": [
        {
          "output_type": "stream",
          "text": [
            "tf.Tensor([ 0  2  4  6  8 10 12], shape=(7,), dtype=int64)\n",
            "tf.Tensor([14 16 18  0  2  4  6], shape=(7,), dtype=int64)\n",
            "tf.Tensor([ 8 10 12 14 16 18  0], shape=(7,), dtype=int64)\n",
            "tf.Tensor([ 2  4  6  8 10 12 14], shape=(7,), dtype=int64)\n",
            "tf.Tensor([16 18], shape=(2,), dtype=int64)\n"
          ],
          "name": "stdout"
        }
      ]
    },
    {
      "cell_type": "code",
      "metadata": {
        "id": "P2azLO0bU2Mq",
        "outputId": "879bddd7-4d40-4dc6-cb13-17a41b2cb598",
        "colab": {
          "base_uri": "https://localhost:8080/",
          "height": 70
        }
      },
      "source": [
        "dataset = tf.data.Dataset.range(10)\n",
        "dataset = dataset.filter(lambda x: x < 10)  # keep only items < 10\n",
        "\n",
        "for item in dataset.take(3):\n",
        "    print(item)"
      ],
      "execution_count": 29,
      "outputs": [
        {
          "output_type": "stream",
          "text": [
            "tf.Tensor(0, shape=(), dtype=int64)\n",
            "tf.Tensor(1, shape=(), dtype=int64)\n",
            "tf.Tensor(2, shape=(), dtype=int64)\n"
          ],
          "name": "stdout"
        }
      ]
    },
    {
      "cell_type": "code",
      "metadata": {
        "id": "JpmN5qNbYtNm",
        "outputId": "735d85e4-a9b1-4e27-c706-b6080e8f60ad",
        "colab": {
          "base_uri": "https://localhost:8080/",
          "height": 106
        }
      },
      "source": [
        "tf.random.set_seed(42)\n",
        "\n",
        "dataset = tf.data.Dataset.range(10).repeat(3)\n",
        "dataset = dataset.shuffle(buffer_size=5, seed=42).batch(7)\n",
        "for item in dataset:\n",
        "    print(item)"
      ],
      "execution_count": 30,
      "outputs": [
        {
          "output_type": "stream",
          "text": [
            "tf.Tensor([0 1 6 5 7 3 9], shape=(7,), dtype=int64)\n",
            "tf.Tensor([8 2 1 0 4 6 4], shape=(7,), dtype=int64)\n",
            "tf.Tensor([7 2 5 9 2 1 3], shape=(7,), dtype=int64)\n",
            "tf.Tensor([4 3 8 7 9 5 0], shape=(7,), dtype=int64)\n",
            "tf.Tensor([8 6], shape=(2,), dtype=int64)\n"
          ],
          "name": "stdout"
        }
      ]
    },
    {
      "cell_type": "code",
      "metadata": {
        "id": "O0HBvvg-ymZE",
        "outputId": "e08e8826-167c-407a-9d2f-c693c3fd6a54",
        "colab": {
          "base_uri": "https://localhost:8080/",
          "height": 35
        }
      },
      "source": [
        "from sklearn.datasets import fetch_california_housing\n",
        "from sklearn.model_selection import train_test_split\n",
        "from sklearn.preprocessing import StandardScaler\n",
        "\n",
        "housing = fetch_california_housing()\n",
        "X_train_full, X_test, y_train_full, y_test = train_test_split(\n",
        "    housing.data, housing.target.reshape(-1, 1), random_state=42)\n",
        "X_train, X_valid, y_train, y_valid = train_test_split(\n",
        "    X_train_full, y_train_full, random_state=42)\n",
        "\n",
        "scaler = StandardScaler()\n",
        "scaler.fit(X_train)\n",
        "X_mean = scaler.mean_\n",
        "X_std = scaler.scale_"
      ],
      "execution_count": 31,
      "outputs": [
        {
          "output_type": "stream",
          "text": [
            "Downloading Cal. housing from https://ndownloader.figshare.com/files/5976036 to /root/scikit_learn_data\n"
          ],
          "name": "stderr"
        }
      ]
    },
    {
      "cell_type": "code",
      "metadata": {
        "id": "czsKsc650deL",
        "outputId": "d6f59829-a046-4430-f26b-078c564e7526",
        "colab": {
          "base_uri": "https://localhost:8080/",
          "height": 35
        }
      },
      "source": [
        "housing.data.shape"
      ],
      "execution_count": 32,
      "outputs": [
        {
          "output_type": "execute_result",
          "data": {
            "text/plain": [
              "(20640, 8)"
            ]
          },
          "metadata": {
            "tags": []
          },
          "execution_count": 32
        }
      ]
    },
    {
      "cell_type": "code",
      "metadata": {
        "id": "B7QXk1Imzq5T",
        "outputId": "a2288d23-7eee-4d19-d6a4-0c40e0fb1366",
        "colab": {
          "base_uri": "https://localhost:8080/",
          "height": 35
        }
      },
      "source": [
        "housing.target.shape"
      ],
      "execution_count": 33,
      "outputs": [
        {
          "output_type": "execute_result",
          "data": {
            "text/plain": [
              "(20640,)"
            ]
          },
          "metadata": {
            "tags": []
          },
          "execution_count": 33
        }
      ]
    },
    {
      "cell_type": "code",
      "metadata": {
        "id": "wjSsz1a6ztno",
        "outputId": "eafb205a-e9c9-48ac-8e9a-e0404932326c",
        "colab": {
          "base_uri": "https://localhost:8080/",
          "height": 35
        }
      },
      "source": [
        "housing.target"
      ],
      "execution_count": 34,
      "outputs": [
        {
          "output_type": "execute_result",
          "data": {
            "text/plain": [
              "array([4.526, 3.585, 3.521, ..., 0.923, 0.847, 0.894])"
            ]
          },
          "metadata": {
            "tags": []
          },
          "execution_count": 34
        }
      ]
    },
    {
      "cell_type": "code",
      "metadata": {
        "id": "tLnmrJb60U0N",
        "outputId": "114d58b9-b1fa-40ff-8549-5ae5eb3127ad",
        "colab": {
          "base_uri": "https://localhost:8080/",
          "height": 141
        }
      },
      "source": [
        "# reshape to ?, -1 (Row, Col). Reshape to only 1 column and X row\n",
        "housing.target.reshape(-1, 1)"
      ],
      "execution_count": 35,
      "outputs": [
        {
          "output_type": "execute_result",
          "data": {
            "text/plain": [
              "array([[4.526],\n",
              "       [3.585],\n",
              "       [3.521],\n",
              "       ...,\n",
              "       [0.923],\n",
              "       [0.847],\n",
              "       [0.894]])"
            ]
          },
          "metadata": {
            "tags": []
          },
          "execution_count": 35
        }
      ]
    },
    {
      "cell_type": "code",
      "metadata": {
        "id": "gWUPrVtKxYtG",
        "outputId": "c6c322da-8295-4ac4-f291-1d182dce902d",
        "colab": {
          "base_uri": "https://localhost:8080/",
          "height": 35
        }
      },
      "source": [
        " a = housing.target.reshape(-1, 1)\n",
        " a.shape"
      ],
      "execution_count": 36,
      "outputs": [
        {
          "output_type": "execute_result",
          "data": {
            "text/plain": [
              "(20640, 1)"
            ]
          },
          "metadata": {
            "tags": []
          },
          "execution_count": 36
        }
      ]
    },
    {
      "cell_type": "code",
      "metadata": {
        "id": "rCkFq875zf5v"
      },
      "source": [
        "X_train_full, X_test, y_train_full, y_test = train_test_split(\n",
        "    housing.data, housing.target.reshape(-1, 1), random_state=42)\n",
        "X_train, X_valid, y_train, y_valid = train_test_split(\n",
        "    X_train_full, y_train_full, random_state=42)"
      ],
      "execution_count": 37,
      "outputs": []
    },
    {
      "cell_type": "code",
      "metadata": {
        "id": "NkBk0QqP3INv",
        "outputId": "ada42108-2190-43c3-b88b-299aeb1911b3",
        "colab": {
          "base_uri": "https://localhost:8080/",
          "height": 35
        }
      },
      "source": [
        "X_train_full.shape, X_test.shape, y_train_full.shape, y_test.shape"
      ],
      "execution_count": 38,
      "outputs": [
        {
          "output_type": "execute_result",
          "data": {
            "text/plain": [
              "((15480, 8), (5160, 8), (15480, 1), (5160, 1))"
            ]
          },
          "metadata": {
            "tags": []
          },
          "execution_count": 38
        }
      ]
    },
    {
      "cell_type": "code",
      "metadata": {
        "id": "QZfBJz-C3LQl",
        "outputId": "23907b58-cc80-4502-cfbc-bf94860c19dd",
        "colab": {
          "base_uri": "https://localhost:8080/",
          "height": 35
        }
      },
      "source": [
        "X_train.shape, X_valid.shape, y_train.shape, y_valid.shape"
      ],
      "execution_count": 39,
      "outputs": [
        {
          "output_type": "execute_result",
          "data": {
            "text/plain": [
              "((11610, 8), (3870, 8), (11610, 1), (3870, 1))"
            ]
          },
          "metadata": {
            "tags": []
          },
          "execution_count": 39
        }
      ]
    },
    {
      "cell_type": "code",
      "metadata": {
        "id": "VPgz5Kp78n2z",
        "outputId": "2b51b993-c9b8-416d-8d14-f230b7e6f557",
        "colab": {
          "base_uri": "https://localhost:8080/",
          "height": 230
        }
      },
      "source": [
        "X_train[:4]"
      ],
      "execution_count": 40,
      "outputs": [
        {
          "output_type": "execute_result",
          "data": {
            "text/plain": [
              "array([[ 3.52140000e+00,  1.50000000e+01,  3.04994451e+00,\n",
              "         1.10654828e+00,  1.44700000e+03,  1.60599334e+00,\n",
              "         3.76300000e+01, -1.22430000e+02],\n",
              "       [ 5.32750000e+00,  5.00000000e+00,  6.49005964e+00,\n",
              "         9.91053678e-01,  3.46400000e+03,  3.44333996e+00,\n",
              "         3.36900000e+01, -1.17390000e+02],\n",
              "       [ 3.10000000e+00,  2.90000000e+01,  7.54237288e+00,\n",
              "         1.59152542e+00,  1.32800000e+03,  2.25084746e+00,\n",
              "         3.84400000e+01, -1.22980000e+02],\n",
              "       [ 7.17360000e+00,  1.20000000e+01,  6.28900256e+00,\n",
              "         9.97442455e-01,  1.05400000e+03,  2.69565217e+00,\n",
              "         3.35500000e+01, -1.17700000e+02]])"
            ]
          },
          "metadata": {
            "tags": []
          },
          "execution_count": 40
        }
      ]
    },
    {
      "cell_type": "code",
      "metadata": {
        "id": "CzWuF2rr3Ni1"
      },
      "source": [
        "scaler = StandardScaler()\n",
        "scaler.fit(X_train)\n",
        "\n",
        "X_mean = scaler.mean_\n",
        "X_std = scaler.scale_"
      ],
      "execution_count": 41,
      "outputs": []
    },
    {
      "cell_type": "code",
      "metadata": {
        "id": "sIiMaTS28r7Y",
        "outputId": "b7a97850-c219-46d9-fd7a-30075105c838",
        "colab": {
          "base_uri": "https://localhost:8080/",
          "height": 248
        }
      },
      "source": [
        "# https://stackoverflow.com/questions/59101623/how-to-use-fit-and-transform-for-training-and-testing-data-with-standardscaler\n",
        "normalized_X_train = scaler.transform(X_train)\n",
        "normalized_X_train"
      ],
      "execution_count": 42,
      "outputs": [
        {
          "output_type": "execute_result",
          "data": {
            "text/plain": [
              "array([[-0.19397883, -1.07781319, -0.94338545, ..., -0.57291624,\n",
              "         0.92926047, -1.42215523],\n",
              "       [ 0.75198318, -1.868895  ,  0.40547793, ...,  0.20516532,\n",
              "        -0.91654738,  1.09666969],\n",
              "       [-0.41469108,  0.02970134,  0.81808819, ..., -0.29983271,\n",
              "         1.30872858, -1.697027  ],\n",
              "       ...,\n",
              "       [-1.22332336,  0.50435042, -0.51600328, ...,  0.1344908 ,\n",
              "        -0.71978613,  1.14664638],\n",
              "       [-0.93556989,  1.8491895 , -0.10878451, ..., -0.01354498,\n",
              "         0.52168361, -0.10277075],\n",
              "       [ 0.89585991,  0.1879177 ,  0.29947528, ..., -0.17823425,\n",
              "         1.12133692, -1.30720885]])"
            ]
          },
          "metadata": {
            "tags": []
          },
          "execution_count": 42
        }
      ]
    },
    {
      "cell_type": "code",
      "metadata": {
        "id": "kSSMt4d89Hfa",
        "outputId": "a2465d2d-92e6-4809-a5ea-9d17e0fd9c00",
        "colab": {
          "base_uri": "https://localhost:8080/",
          "height": 88
        }
      },
      "source": [
        "X_mean, X_std"
      ],
      "execution_count": 43,
      "outputs": [
        {
          "output_type": "execute_result",
          "data": {
            "text/plain": [
              "(array([ 3.89175860e+00,  2.86245478e+01,  5.45593655e+00,  1.09963474e+00,\n",
              "         1.42428122e+03,  2.95886657e+00,  3.56464315e+01, -1.19584363e+02]),\n",
              " array([1.90927329e+00, 1.26409177e+01, 2.55038070e+00, 4.65460128e-01,\n",
              "        1.09576000e+03, 2.36138048e+00, 2.13456672e+00, 2.00093304e+00]))"
            ]
          },
          "metadata": {
            "tags": []
          },
          "execution_count": 43
        }
      ]
    },
    {
      "cell_type": "code",
      "metadata": {
        "id": "6iHINlPl9PrD"
      },
      "source": [
        "def save_to_multiple_csv_files(data, name_prefix, header=None, n_parts=10):\n",
        "    housing_dir = os.path.join(\"datasets\", \"housing\")\n",
        "    os.makedirs(housing_dir, exist_ok=True)\n",
        "    path_format = os.path.join(housing_dir, \"my_{}_{:02d}.csv\")\n",
        "\n",
        "    filepaths = []\n",
        "    m = len(data)\n",
        "    for file_idx, row_indices in enumerate(np.array_split(np.arange(m), n_parts)):\n",
        "        part_csv = path_format.format(name_prefix, file_idx)\n",
        "        filepaths.append(part_csv)\n",
        "        with open(part_csv, \"wt\", encoding=\"utf-8\") as f:\n",
        "            if header is not None:\n",
        "                f.write(header)\n",
        "                f.write(\"\\n\")\n",
        "            for row_idx in row_indices:\n",
        "                f.write(\",\".join([repr(col) for col in data[row_idx]]))\n",
        "                f.write(\"\\n\")\n",
        "    return filepaths"
      ],
      "execution_count": 44,
      "outputs": []
    },
    {
      "cell_type": "code",
      "metadata": {
        "id": "2jR8wMx5CsQu"
      },
      "source": [
        "train_data = np.c_[X_train, y_train]\n",
        "valid_data = np.c_[X_valid, y_valid]\n",
        "test_data = np.c_[X_test, y_test]\n",
        "header_cols = housing.feature_names + [\"MedianHouseValue\"]\n",
        "header = \",\".join(header_cols)\n",
        "\n",
        "train_filepaths = save_to_multiple_csv_files(train_data, \"train\", header, n_parts=20)\n",
        "valid_filepaths = save_to_multiple_csv_files(valid_data, \"valid\", header, n_parts=10)\n",
        "test_filepaths = save_to_multiple_csv_files(test_data, \"test\", header, n_parts=10)"
      ],
      "execution_count": 45,
      "outputs": []
    },
    {
      "cell_type": "code",
      "metadata": {
        "id": "JTDeF13kJR1U",
        "outputId": "05d7aca3-2db6-4e3a-b5af-d189c048f9f6",
        "colab": {
          "base_uri": "https://localhost:8080/",
          "height": 36
        }
      },
      "source": [
        "train_filepaths[0]"
      ],
      "execution_count": 46,
      "outputs": [
        {
          "output_type": "execute_result",
          "data": {
            "application/vnd.google.colaboratory.intrinsic+json": {
              "type": "string"
            },
            "text/plain": [
              "'datasets/housing/my_train_00.csv'"
            ]
          },
          "metadata": {
            "tags": []
          },
          "execution_count": 46
        }
      ]
    },
    {
      "cell_type": "code",
      "metadata": {
        "id": "-qQfq0BLC1Iz",
        "outputId": "0206ccd0-ebb7-428d-cf08-5a70451ec9e2",
        "colab": {
          "base_uri": "https://localhost:8080/",
          "height": 194
        }
      },
      "source": [
        "import pandas as pd\n",
        "pd.read_csv(train_filepaths[0]).head()"
      ],
      "execution_count": 47,
      "outputs": [
        {
          "output_type": "execute_result",
          "data": {
            "text/html": [
              "<div>\n",
              "<style scoped>\n",
              "    .dataframe tbody tr th:only-of-type {\n",
              "        vertical-align: middle;\n",
              "    }\n",
              "\n",
              "    .dataframe tbody tr th {\n",
              "        vertical-align: top;\n",
              "    }\n",
              "\n",
              "    .dataframe thead th {\n",
              "        text-align: right;\n",
              "    }\n",
              "</style>\n",
              "<table border=\"1\" class=\"dataframe\">\n",
              "  <thead>\n",
              "    <tr style=\"text-align: right;\">\n",
              "      <th></th>\n",
              "      <th>MedInc</th>\n",
              "      <th>HouseAge</th>\n",
              "      <th>AveRooms</th>\n",
              "      <th>AveBedrms</th>\n",
              "      <th>Population</th>\n",
              "      <th>AveOccup</th>\n",
              "      <th>Latitude</th>\n",
              "      <th>Longitude</th>\n",
              "      <th>MedianHouseValue</th>\n",
              "    </tr>\n",
              "  </thead>\n",
              "  <tbody>\n",
              "    <tr>\n",
              "      <th>0</th>\n",
              "      <td>3.5214</td>\n",
              "      <td>15.0</td>\n",
              "      <td>3.049945</td>\n",
              "      <td>1.106548</td>\n",
              "      <td>1447.0</td>\n",
              "      <td>1.605993</td>\n",
              "      <td>37.63</td>\n",
              "      <td>-122.43</td>\n",
              "      <td>1.442</td>\n",
              "    </tr>\n",
              "    <tr>\n",
              "      <th>1</th>\n",
              "      <td>5.3275</td>\n",
              "      <td>5.0</td>\n",
              "      <td>6.490060</td>\n",
              "      <td>0.991054</td>\n",
              "      <td>3464.0</td>\n",
              "      <td>3.443340</td>\n",
              "      <td>33.69</td>\n",
              "      <td>-117.39</td>\n",
              "      <td>1.687</td>\n",
              "    </tr>\n",
              "    <tr>\n",
              "      <th>2</th>\n",
              "      <td>3.1000</td>\n",
              "      <td>29.0</td>\n",
              "      <td>7.542373</td>\n",
              "      <td>1.591525</td>\n",
              "      <td>1328.0</td>\n",
              "      <td>2.250847</td>\n",
              "      <td>38.44</td>\n",
              "      <td>-122.98</td>\n",
              "      <td>1.621</td>\n",
              "    </tr>\n",
              "    <tr>\n",
              "      <th>3</th>\n",
              "      <td>7.1736</td>\n",
              "      <td>12.0</td>\n",
              "      <td>6.289003</td>\n",
              "      <td>0.997442</td>\n",
              "      <td>1054.0</td>\n",
              "      <td>2.695652</td>\n",
              "      <td>33.55</td>\n",
              "      <td>-117.70</td>\n",
              "      <td>2.621</td>\n",
              "    </tr>\n",
              "    <tr>\n",
              "      <th>4</th>\n",
              "      <td>2.0549</td>\n",
              "      <td>13.0</td>\n",
              "      <td>5.312457</td>\n",
              "      <td>1.085092</td>\n",
              "      <td>3297.0</td>\n",
              "      <td>2.244384</td>\n",
              "      <td>33.93</td>\n",
              "      <td>-116.93</td>\n",
              "      <td>0.956</td>\n",
              "    </tr>\n",
              "  </tbody>\n",
              "</table>\n",
              "</div>"
            ],
            "text/plain": [
              "   MedInc  HouseAge  AveRooms  ...  Latitude  Longitude  MedianHouseValue\n",
              "0  3.5214      15.0  3.049945  ...     37.63    -122.43             1.442\n",
              "1  5.3275       5.0  6.490060  ...     33.69    -117.39             1.687\n",
              "2  3.1000      29.0  7.542373  ...     38.44    -122.98             1.621\n",
              "3  7.1736      12.0  6.289003  ...     33.55    -117.70             2.621\n",
              "4  2.0549      13.0  5.312457  ...     33.93    -116.93             0.956\n",
              "\n",
              "[5 rows x 9 columns]"
            ]
          },
          "metadata": {
            "tags": []
          },
          "execution_count": 47
        }
      ]
    },
    {
      "cell_type": "code",
      "metadata": {
        "id": "N8zHImzaC5KP",
        "outputId": "adbbc460-eb32-4ef9-dbde-5e7fcfd61244",
        "colab": {
          "base_uri": "https://localhost:8080/",
          "height": 106
        }
      },
      "source": [
        "with open(train_filepaths[0]) as f:\n",
        "    for i in range(5):\n",
        "        print(f.readline(), end=\"\")"
      ],
      "execution_count": 48,
      "outputs": [
        {
          "output_type": "stream",
          "text": [
            "MedInc,HouseAge,AveRooms,AveBedrms,Population,AveOccup,Latitude,Longitude,MedianHouseValue\n",
            "3.5214,15.0,3.0499445061043287,1.106548279689234,1447.0,1.6059933407325193,37.63,-122.43,1.442\n",
            "5.3275,5.0,6.490059642147117,0.9910536779324056,3464.0,3.4433399602385686,33.69,-117.39,1.687\n",
            "3.1,29.0,7.5423728813559325,1.5915254237288134,1328.0,2.2508474576271187,38.44,-122.98,1.621\n",
            "7.1736,12.0,6.289002557544757,0.9974424552429667,1054.0,2.6956521739130435,33.55,-117.7,2.621\n"
          ],
          "name": "stdout"
        }
      ]
    },
    {
      "cell_type": "code",
      "metadata": {
        "id": "674lNm9LJz_b",
        "outputId": "30ad9b92-e88b-437f-b545-a5b2d6661a78",
        "colab": {
          "base_uri": "https://localhost:8080/",
          "height": 372
        }
      },
      "source": [
        "train_filepaths"
      ],
      "execution_count": 49,
      "outputs": [
        {
          "output_type": "execute_result",
          "data": {
            "text/plain": [
              "['datasets/housing/my_train_00.csv',\n",
              " 'datasets/housing/my_train_01.csv',\n",
              " 'datasets/housing/my_train_02.csv',\n",
              " 'datasets/housing/my_train_03.csv',\n",
              " 'datasets/housing/my_train_04.csv',\n",
              " 'datasets/housing/my_train_05.csv',\n",
              " 'datasets/housing/my_train_06.csv',\n",
              " 'datasets/housing/my_train_07.csv',\n",
              " 'datasets/housing/my_train_08.csv',\n",
              " 'datasets/housing/my_train_09.csv',\n",
              " 'datasets/housing/my_train_10.csv',\n",
              " 'datasets/housing/my_train_11.csv',\n",
              " 'datasets/housing/my_train_12.csv',\n",
              " 'datasets/housing/my_train_13.csv',\n",
              " 'datasets/housing/my_train_14.csv',\n",
              " 'datasets/housing/my_train_15.csv',\n",
              " 'datasets/housing/my_train_16.csv',\n",
              " 'datasets/housing/my_train_17.csv',\n",
              " 'datasets/housing/my_train_18.csv',\n",
              " 'datasets/housing/my_train_19.csv']"
            ]
          },
          "metadata": {
            "tags": []
          },
          "execution_count": 49
        }
      ]
    },
    {
      "cell_type": "code",
      "metadata": {
        "id": "705qpiSJ57-J"
      },
      "source": [
        "filepath_dataset = tf.data.Dataset.list_files(train_filepaths, seed=42)"
      ],
      "execution_count": 50,
      "outputs": []
    },
    {
      "cell_type": "code",
      "metadata": {
        "id": "R8Y_nMqa6GA9",
        "outputId": "c21dd7d5-b8b6-44f1-de52-ac1fb14fcae0",
        "colab": {
          "base_uri": "https://localhost:8080/",
          "height": 372
        }
      },
      "source": [
        "for filepath in filepath_dataset:\n",
        "    print(filepath)"
      ],
      "execution_count": 51,
      "outputs": [
        {
          "output_type": "stream",
          "text": [
            "tf.Tensor(b'datasets/housing/my_train_15.csv', shape=(), dtype=string)\n",
            "tf.Tensor(b'datasets/housing/my_train_08.csv', shape=(), dtype=string)\n",
            "tf.Tensor(b'datasets/housing/my_train_03.csv', shape=(), dtype=string)\n",
            "tf.Tensor(b'datasets/housing/my_train_01.csv', shape=(), dtype=string)\n",
            "tf.Tensor(b'datasets/housing/my_train_10.csv', shape=(), dtype=string)\n",
            "tf.Tensor(b'datasets/housing/my_train_05.csv', shape=(), dtype=string)\n",
            "tf.Tensor(b'datasets/housing/my_train_19.csv', shape=(), dtype=string)\n",
            "tf.Tensor(b'datasets/housing/my_train_16.csv', shape=(), dtype=string)\n",
            "tf.Tensor(b'datasets/housing/my_train_02.csv', shape=(), dtype=string)\n",
            "tf.Tensor(b'datasets/housing/my_train_09.csv', shape=(), dtype=string)\n",
            "tf.Tensor(b'datasets/housing/my_train_00.csv', shape=(), dtype=string)\n",
            "tf.Tensor(b'datasets/housing/my_train_07.csv', shape=(), dtype=string)\n",
            "tf.Tensor(b'datasets/housing/my_train_12.csv', shape=(), dtype=string)\n",
            "tf.Tensor(b'datasets/housing/my_train_04.csv', shape=(), dtype=string)\n",
            "tf.Tensor(b'datasets/housing/my_train_17.csv', shape=(), dtype=string)\n",
            "tf.Tensor(b'datasets/housing/my_train_11.csv', shape=(), dtype=string)\n",
            "tf.Tensor(b'datasets/housing/my_train_14.csv', shape=(), dtype=string)\n",
            "tf.Tensor(b'datasets/housing/my_train_18.csv', shape=(), dtype=string)\n",
            "tf.Tensor(b'datasets/housing/my_train_06.csv', shape=(), dtype=string)\n",
            "tf.Tensor(b'datasets/housing/my_train_13.csv', shape=(), dtype=string)\n"
          ],
          "name": "stdout"
        }
      ]
    },
    {
      "cell_type": "code",
      "metadata": {
        "id": "Ez_DNh9W7TDk",
        "outputId": "4c60f7ee-637c-46c2-cefc-32fc8ec10872",
        "colab": {
          "base_uri": "https://localhost:8080/",
          "height": 1000
        }
      },
      "source": [
        "x = lambda filepath: tf.data.TextLineDataset(filepath).skip(1)\n",
        "a = x(filepath)\n",
        "for filepath in a:\n",
        "    print(filepath)"
      ],
      "execution_count": 52,
      "outputs": [
        {
          "output_type": "stream",
          "text": [
            "tf.Tensor(b'4.6477,38.0,5.03728813559322,0.911864406779661,745.0,2.5254237288135593,32.64,-117.07,1.504', shape=(), dtype=string)\n",
            "tf.Tensor(b'3.0,39.0,4.628930817610063,0.949685534591195,1036.0,3.257861635220126,33.92,-118.28,1.1', shape=(), dtype=string)\n",
            "tf.Tensor(b'2.1875,39.0,5.217391304347826,1.0499194847020934,1467.0,2.36231884057971,40.42,-120.65,0.643', shape=(), dtype=string)\n",
            "tf.Tensor(b'4.3523,5.0,6.425531914893617,1.0212765957446808,376.0,2.6666666666666665,39.25,-121.2,1.882', shape=(), dtype=string)\n",
            "tf.Tensor(b'2.6623,32.0,5.116083916083916,1.1146853146853146,1452.0,2.0307692307692307,38.63,-121.37,1.207', shape=(), dtype=string)\n",
            "tf.Tensor(b'5.7309,36.0,4.938053097345133,0.8805309734513275,662.0,2.9292035398230087,37.64,-122.08,1.779', shape=(), dtype=string)\n",
            "tf.Tensor(b'2.0625,44.0,4.056022408963585,1.1008403361344539,1066.0,2.9859943977591037,37.01,-121.57,1.703', shape=(), dtype=string)\n",
            "tf.Tensor(b'2.9861,33.0,4.198858230256898,1.0532825880114176,2239.0,2.1303520456707896,37.7,-122.09,2.082', shape=(), dtype=string)\n",
            "tf.Tensor(b'2.3241,42.0,5.1114369501466275,1.1378299120234605,889.0,2.6070381231671553,38.11,-122.24,0.992', shape=(), dtype=string)\n",
            "tf.Tensor(b'4.7917,36.0,5.970223325062035,1.0818858560794045,1189.0,2.9503722084367245,37.57,-122.3,2.761', shape=(), dtype=string)\n",
            "tf.Tensor(b'3.0212,14.0,5.613680154142582,1.2003853564547207,2578.0,2.483622350674374,38.7,-121.28,1.129', shape=(), dtype=string)\n",
            "tf.Tensor(b'2.2264,33.0,4.448936170212766,0.9957446808510638,1053.0,2.2404255319148936,38.59,-121.39,1.081', shape=(), dtype=string)\n",
            "tf.Tensor(b'5.2835,33.0,5.928057553956834,0.9658273381294964,1345.0,2.4190647482014387,32.75,-117.02,2.171', shape=(), dtype=string)\n",
            "tf.Tensor(b'5.5709,31.0,6.72108843537415,1.1003401360544218,1762.0,2.996598639455782,34.21,-118.63,2.448', shape=(), dtype=string)\n",
            "tf.Tensor(b'2.3036,22.0,6.246808510638298,1.2127659574468086,611.0,2.6,39.97,-121.51,0.73', shape=(), dtype=string)\n",
            "tf.Tensor(b'2.6979,19.0,4.901015228426396,1.2918781725888324,855.0,2.1700507614213196,33.18,-117.37,2.667', shape=(), dtype=string)\n",
            "tf.Tensor(b'3.7167,48.0,4.381877022653722,0.9029126213592233,716.0,2.3171521035598706,34.06,-118.35,3.85', shape=(), dtype=string)\n",
            "tf.Tensor(b'5.1149,22.0,5.696891191709844,0.9352331606217616,1270.0,3.290155440414508,37.31,-121.79,2.357', shape=(), dtype=string)\n",
            "tf.Tensor(b'6.6012,6.0,7.465098039215686,1.112156862745098,4413.0,3.461176470588235,32.99,-117.04,3.149', shape=(), dtype=string)\n",
            "tf.Tensor(b'1.6785,12.0,4.485285101164929,1.011036174126303,7517.0,2.304414469650521,39.74,-121.88,1.531', shape=(), dtype=string)\n",
            "tf.Tensor(b'11.3283,21.0,6.1,0.9,182.0,2.6,37.24,-122.08,5.00001', shape=(), dtype=string)\n",
            "tf.Tensor(b'1.7075,29.0,5.313664596273292,1.1071428571428572,2775.0,4.309006211180124,32.71,-117.1,0.869', shape=(), dtype=string)\n",
            "tf.Tensor(b'4.0602,44.0,4.811287477954145,1.0317460317460319,1227.0,2.164021164021164,34.1,-118.28,3.24', shape=(), dtype=string)\n",
            "tf.Tensor(b'3.1002,21.0,3.4190672153635115,1.0905349794238683,2575.0,1.7661179698216736,37.89,-122.06,1.143', shape=(), dtype=string)\n",
            "tf.Tensor(b'3.5931,18.0,5.50103519668737,1.0269151138716357,1426.0,2.9523809523809526,35.62,-117.7,0.719', shape=(), dtype=string)\n",
            "tf.Tensor(b'2.5321,37.0,4.344827586206897,1.030852994555354,2499.0,4.535390199637024,33.89,-118.2,1.051', shape=(), dtype=string)\n",
            "tf.Tensor(b'3.3125,51.0,5.76984126984127,0.9325396825396826,729.0,2.892857142857143,36.74,-119.77,0.701', shape=(), dtype=string)\n",
            "tf.Tensor(b'4.4091,36.0,6.22672064777328,1.0364372469635628,671.0,2.716599190283401,37.62,-122.42,3.179', shape=(), dtype=string)\n",
            "tf.Tensor(b'3.2857,21.0,3.945827232796486,1.0351390922401171,1888.0,2.7642752562225477,33.79,-117.99,2.133', shape=(), dtype=string)\n",
            "tf.Tensor(b'0.4999,23.0,6.054545454545455,1.6727272727272726,198.0,3.6,36.09,-119.99,1.0', shape=(), dtype=string)\n",
            "tf.Tensor(b'2.5029,43.0,3.922920892494929,1.0365111561866125,1895.0,3.843813387423935,33.94,-118.2,1.597', shape=(), dtype=string)\n",
            "tf.Tensor(b'1.5372,23.0,3.7603092783505154,0.961340206185567,1148.0,2.9587628865979383,32.99,-115.54,0.694', shape=(), dtype=string)\n",
            "tf.Tensor(b'3.5083,14.0,4.242957746478873,1.0715962441314555,1924.0,2.2582159624413145,34.19,-118.3,2.809', shape=(), dtype=string)\n",
            "tf.Tensor(b'2.6875,24.0,5.133858267716535,1.0616797900262467,1926.0,2.52755905511811,34.02,-117.06,1.163', shape=(), dtype=string)\n",
            "tf.Tensor(b'2.6776,31.0,4.868888888888889,1.02,1564.0,3.4755555555555557,33.93,-117.48,1.22', shape=(), dtype=string)\n",
            "tf.Tensor(b'4.4821,5.0,6.05506329113924,1.0943037974683545,4620.0,2.9240506329113924,38.1,-122.2,2.1', shape=(), dtype=string)\n",
            "tf.Tensor(b'3.58,10.0,6.902275769745649,1.2597054886211512,2294.0,3.07095046854083,33.7,-117.25,1.134', shape=(), dtype=string)\n",
            "tf.Tensor(b'3.4205,36.0,5.735384615384615,1.0184615384615385,1052.0,3.236923076923077,35.4,-118.98,0.766', shape=(), dtype=string)\n",
            "tf.Tensor(b'3.6037,5.0,3.5841836734693877,1.3137755102040816,725.0,1.8494897959183674,37.78,-122.39,1.875', shape=(), dtype=string)\n",
            "tf.Tensor(b'1.9286,33.0,3.912772585669782,1.0311526479750779,1315.0,4.0965732087227416,32.71,-117.12,0.785', shape=(), dtype=string)\n",
            "tf.Tensor(b'3.4375,52.0,3.125,1.05,99.0,2.475,34.11,-118.25,1.7', shape=(), dtype=string)\n",
            "tf.Tensor(b'5.5658,52.0,5.3,0.9840909090909091,1135.0,2.5795454545454546,34.17,-118.28,3.312', shape=(), dtype=string)\n",
            "tf.Tensor(b'4.0313,32.0,6.104166666666667,1.1302083333333333,1066.0,2.7760416666666665,38.27,-122.69,2.85', shape=(), dtype=string)\n",
            "tf.Tensor(b'1.4327,47.0,4.167420814479638,1.1945701357466063,881.0,3.986425339366516,34.01,-118.27,1.141', shape=(), dtype=string)\n",
            "tf.Tensor(b'5.5405,16.0,6.475524475524476,0.958041958041958,887.0,3.1013986013986012,36.82,-119.85,1.193', shape=(), dtype=string)\n",
            "tf.Tensor(b'2.5769,35.0,4.8700906344410875,1.0694864048338368,887.0,2.6797583081570995,37.95,-122.32,1.461', shape=(), dtype=string)\n",
            "tf.Tensor(b'3.175,18.0,5.6272965879265096,1.1023622047244095,985.0,2.5853018372703414,38.4,-120.66,1.185', shape=(), dtype=string)\n",
            "tf.Tensor(b'1.7395,19.0,2.934560327198364,1.043967280163599,3325.0,3.3997955010224947,34.06,-118.24,1.625', shape=(), dtype=string)\n",
            "tf.Tensor(b'4.0,36.0,6.0,1.5,27.0,3.375,37.33,-121.29,0.75', shape=(), dtype=string)\n",
            "tf.Tensor(b'3.2176,27.0,5.32051282051282,0.9786324786324786,692.0,2.9572649572649574,34.11,-117.21,0.894', shape=(), dtype=string)\n",
            "tf.Tensor(b'3.8,42.0,4.38974358974359,0.8564102564102564,748.0,3.835897435897436,33.91,-118.17,1.458', shape=(), dtype=string)\n",
            "tf.Tensor(b'2.9161,19.0,4.86080586080586,0.9688644688644689,2852.0,2.6117216117216118,32.82,-116.95,1.357', shape=(), dtype=string)\n",
            "tf.Tensor(b'1.9605,37.0,5.219211822660099,1.0886699507389161,1372.0,3.3793103448275863,33.9,-118.25,1.062', shape=(), dtype=string)\n",
            "tf.Tensor(b'6.6176,18.0,6.464379947229552,1.0738786279683377,2984.0,3.936675461741425,37.45,-121.9,2.762', shape=(), dtype=string)\n",
            "tf.Tensor(b'3.7891,10.0,3.750556792873051,1.1469933184855234,902.0,2.0089086859688194,33.16,-117.35,2.063', shape=(), dtype=string)\n",
            "tf.Tensor(b'4.0,16.0,4.648972602739726,0.9948630136986302,1619.0,2.7722602739726026,32.91,-117.13,1.547', shape=(), dtype=string)\n",
            "tf.Tensor(b'6.4459,51.0,6.174509803921569,1.0176470588235293,1082.0,2.1215686274509804,34.1,-118.27,4.216', shape=(), dtype=string)\n",
            "tf.Tensor(b'3.5128,23.0,5.177777777777778,0.9506172839506173,911.0,2.2493827160493827,36.74,-119.69,1.216', shape=(), dtype=string)\n",
            "tf.Tensor(b'2.8919,52.0,5.140506329113924,1.089873417721519,2290.0,2.8987341772151898,34.1,-118.14,2.584', shape=(), dtype=string)\n",
            "tf.Tensor(b'2.343,33.0,4.899280575539568,1.0623501199040768,1497.0,3.5899280575539567,36.06,-118.98,0.474', shape=(), dtype=string)\n",
            "tf.Tensor(b'3.2632,38.0,4.848039215686274,1.2058823529411764,691.0,3.3872549019607843,33.77,-117.95,1.809', shape=(), dtype=string)\n",
            "tf.Tensor(b'2.5625,18.0,3.473529411764706,1.0382352941176471,781.0,2.2970588235294116,33.81,-117.91,1.531', shape=(), dtype=string)\n",
            "tf.Tensor(b'3.125,47.0,4.9144736842105265,1.075657894736842,689.0,2.2664473684210527,32.74,-117.14,1.727', shape=(), dtype=string)\n",
            "tf.Tensor(b'4.1389,39.0,5.010204081632653,1.010204081632653,1108.0,3.7687074829931975,33.97,-118.09,1.66', shape=(), dtype=string)\n",
            "tf.Tensor(b'5.4609,23.0,6.165837479270315,1.1028192371475953,4076.0,2.2531785516860143,34.16,-118.51,5.00001', shape=(), dtype=string)\n",
            "tf.Tensor(b'4.2454,33.0,4.604206500956023,1.0210325047801148,1644.0,3.1434034416826004,33.88,-118.36,2.368', shape=(), dtype=string)\n",
            "tf.Tensor(b'1.2069,47.0,4.28051948051948,1.122077922077922,1308.0,3.397402597402597,34.12,-117.29,0.682', shape=(), dtype=string)\n",
            "tf.Tensor(b'3.154,23.0,5.923312883435583,1.072085889570552,2082.0,3.1932515337423313,34.03,-117.08,1.157', shape=(), dtype=string)\n",
            "tf.Tensor(b'3.7132,15.0,5.1907790143084265,1.09697933227345,1629.0,2.5898251192368837,38.43,-122.73,1.676', shape=(), dtype=string)\n",
            "tf.Tensor(b'3.1553,17.0,5.900990099009901,1.0673267326732674,1531.0,3.0316831683168317,33.2,-116.99,2.5', shape=(), dtype=string)\n",
            "tf.Tensor(b'4.5625,35.0,6.0,1.0,706.0,2.824,33.96,-118.13,2.535', shape=(), dtype=string)\n",
            "tf.Tensor(b'3.6475,47.0,4.970530451866405,1.1100196463654224,1262.0,2.479371316306483,33.99,-118.04,1.971', shape=(), dtype=string)\n",
            "tf.Tensor(b'3.7202,30.0,4.802536231884058,1.036231884057971,3249.0,5.885869565217392,33.73,-117.86,1.821', shape=(), dtype=string)\n",
            "tf.Tensor(b'3.8643,33.0,5.052536231884058,1.0271739130434783,1682.0,3.0471014492753623,37.73,-122.41,2.762', shape=(), dtype=string)\n",
            "tf.Tensor(b'1.59,49.0,4.39186295503212,1.0706638115631693,1525.0,3.2655246252676657,37.63,-121.0,0.809', shape=(), dtype=string)\n",
            "tf.Tensor(b'7.52,16.0,7.070769230769231,1.0846153846153845,1480.0,2.276923076923077,37.83,-122.16,3.702', shape=(), dtype=string)\n",
            "tf.Tensor(b'3.0398,31.0,4.587470449172577,1.074468085106383,1535.0,1.8144208037825058,34.15,-118.4,3.691', shape=(), dtype=string)\n",
            "tf.Tensor(b'4.0677,36.0,5.525925925925926,1.0444444444444445,1041.0,3.8555555555555556,33.98,-118.08,1.658', shape=(), dtype=string)\n",
            "tf.Tensor(b'4.1719,5.0,6.625,1.1071428571428572,631.0,3.755952380952381,34.58,-118.08,1.466', shape=(), dtype=string)\n",
            "tf.Tensor(b'7.3081,27.0,7.290393013100437,1.0502183406113537,1354.0,2.9563318777292578,37.53,-122.34,4.646', shape=(), dtype=string)\n",
            "tf.Tensor(b'3.6161,28.0,4.4475524475524475,1.1818181818181819,788.0,5.510489510489511,33.8,-118.24,1.313', shape=(), dtype=string)\n",
            "tf.Tensor(b'3.9537,17.0,6.013461538461539,1.0365384615384616,1390.0,2.673076923076923,39.25,-121.06,1.728', shape=(), dtype=string)\n",
            "tf.Tensor(b'3.0391,20.0,5.59877800407332,1.1710794297352343,1195.0,2.433808553971487,36.41,-118.86,1.397', shape=(), dtype=string)\n",
            "tf.Tensor(b'5.1523,36.0,5.776190476190476,1.0809523809523809,1085.0,2.5833333333333335,33.0,-117.27,3.878', shape=(), dtype=string)\n",
            "tf.Tensor(b'1.8533,15.0,4.9030955585464335,1.0780619111709286,1784.0,2.4010767160161506,41.72,-122.65,0.575', shape=(), dtype=string)\n",
            "tf.Tensor(b'4.1115,35.0,4.908333333333333,0.9958333333333333,1659.0,3.45625,33.79,-117.98,1.797', shape=(), dtype=string)\n",
            "tf.Tensor(b'3.0723,6.0,6.269858541893362,1.2132752992383025,2551.0,2.7758433079434166,34.98,-120.47,1.373', shape=(), dtype=string)\n",
            "tf.Tensor(b'2.4917,43.0,6.700507614213198,1.0913705583756346,512.0,2.598984771573604,39.47,-122.1,0.771', shape=(), dtype=string)\n",
            "tf.Tensor(b'4.0132,26.0,5.904109589041096,0.9287671232876712,956.0,2.6191780821917807,38.33,-122.31,1.747', shape=(), dtype=string)\n",
            "tf.Tensor(b'2.8,43.0,4.302521008403361,1.0392156862745099,1256.0,3.518207282913165,37.35,-121.86,1.533', shape=(), dtype=string)\n",
            "tf.Tensor(b'5.2523,7.0,6.335913312693498,1.0077399380804954,2228.0,3.4489164086687305,38.17,-122.18,1.613', shape=(), dtype=string)\n",
            "tf.Tensor(b'2.9714,37.0,4.071428571428571,1.0124223602484472,2778.0,4.313664596273292,33.96,-118.05,1.603', shape=(), dtype=string)\n",
            "tf.Tensor(b'6.0531,34.0,7.081967213114754,0.9770491803278688,852.0,2.7934426229508196,33.84,-117.93,2.871', shape=(), dtype=string)\n",
            "tf.Tensor(b'2.2,28.0,3.719360568383659,1.0390763765541742,1556.0,2.763765541740675,33.11,-117.08,1.277', shape=(), dtype=string)\n",
            "tf.Tensor(b'4.8611,39.0,5.259803921568627,1.0098039215686274,556.0,2.7254901960784315,33.92,-118.37,2.456', shape=(), dtype=string)\n",
            "tf.Tensor(b'3.96,45.0,4.944099378881988,1.0093167701863355,920.0,2.857142857142857,37.76,-122.54,2.722', shape=(), dtype=string)\n",
            "tf.Tensor(b'3.0382,23.0,4.019723865877712,1.0670611439842208,4088.0,2.687705456936226,33.74,-117.83,1.836', shape=(), dtype=string)\n",
            "tf.Tensor(b'4.1387,4.0,4.470167064439141,1.1849642004773269,1606.0,1.9164677804295942,37.55,-121.96,1.625', shape=(), dtype=string)\n",
            "tf.Tensor(b'3.7656,7.0,6.156937799043062,1.1492822966507177,2733.0,2.615311004784689,36.86,-119.8,1.45', shape=(), dtype=string)\n",
            "tf.Tensor(b'4.2333,32.0,4.666666666666667,1.0936936936936936,1132.0,2.0396396396396397,33.92,-118.41,3.58', shape=(), dtype=string)\n",
            "tf.Tensor(b'5.2447,10.0,6.755936675461742,1.0065963060686016,2568.0,3.387862796833773,38.39,-121.36,1.481', shape=(), dtype=string)\n",
            "tf.Tensor(b'3.2481,34.0,5.528225806451613,0.9899193548387096,1761.0,3.5504032258064515,34.08,-117.72,1.288', shape=(), dtype=string)\n",
            "tf.Tensor(b'4.0313,35.0,4.746268656716418,1.044776119402985,1299.0,3.8776119402985074,33.91,-118.15,1.632', shape=(), dtype=string)\n",
            "tf.Tensor(b'2.8793,36.0,4.941558441558442,1.08008658008658,1836.0,3.9740259740259742,33.91,-118.2,1.181', shape=(), dtype=string)\n",
            "tf.Tensor(b'1.625,30.0,3.674766355140187,1.091588785046729,2028.0,3.790654205607477,33.98,-118.27,1.015', shape=(), dtype=string)\n",
            "tf.Tensor(b'4.7547,14.0,5.791438526630165,1.0228969636635141,6443.0,3.207068193130911,34.11,-117.58,1.576', shape=(), dtype=string)\n",
            "tf.Tensor(b'4.3362,31.0,5.9450980392156865,0.9333333333333333,596.0,2.3372549019607844,34.16,-117.25,1.594', shape=(), dtype=string)\n",
            "tf.Tensor(b'2.8493,36.0,5.853018372703412,1.094488188976378,1395.0,3.661417322834646,33.89,-118.26,1.096', shape=(), dtype=string)\n",
            "tf.Tensor(b'15.0001,38.0,8.954732510288066,1.0946502057613168,798.0,3.2839506172839505,34.19,-118.2,5.00001', shape=(), dtype=string)\n",
            "tf.Tensor(b'1.3684,52.0,4.082644628099174,1.1694214876033058,475.0,1.962809917355372,38.44,-122.71,2.583', shape=(), dtype=string)\n",
            "tf.Tensor(b'3.975,22.0,6.896373056994818,1.5803108808290156,580.0,3.005181347150259,33.16,-117.35,5.00001', shape=(), dtype=string)\n",
            "tf.Tensor(b'5.9177,27.0,5.5396825396825395,0.9206349206349206,391.0,3.1031746031746033,33.92,-117.9,2.676', shape=(), dtype=string)\n",
            "tf.Tensor(b'7.5744,25.0,6.932926829268292,1.0365853658536586,524.0,3.1951219512195124,33.9,-117.82,2.593', shape=(), dtype=string)\n",
            "tf.Tensor(b'5.246,11.0,7.290148448043185,1.0074224021592442,5221.0,3.5229419703103915,34.14,-117.38,1.614', shape=(), dtype=string)\n",
            "tf.Tensor(b'4.4732,29.0,5.482978723404256,0.9468085106382979,1849.0,3.9340425531914893,33.77,-117.89,1.948', shape=(), dtype=string)\n",
            "tf.Tensor(b'4.0631,9.0,5.677859391395593,1.0461699895068206,6241.0,3.274396642182581,35.3,-119.05,0.882', shape=(), dtype=string)\n",
            "tf.Tensor(b'1.7212,43.0,3.8680555555555554,1.1458333333333333,573.0,3.9791666666666665,37.95,-121.27,0.59', shape=(), dtype=string)\n",
            "tf.Tensor(b'10.5575,32.0,7.344,1.0275555555555556,2712.0,2.4106666666666667,34.13,-118.4,5.00001', shape=(), dtype=string)\n",
            "tf.Tensor(b'7.5822,14.0,7.546419098143236,1.1140583554376657,1172.0,3.1087533156498672,34.04,-117.15,2.831', shape=(), dtype=string)\n",
            "tf.Tensor(b'2.8289,38.0,4.438148443735036,1.031125299281724,3523.0,2.8116520351157224,36.68,-121.67,1.683', shape=(), dtype=string)\n",
            "tf.Tensor(b'8.7477,52.0,9.0,1.1340782122905029,556.0,3.106145251396648,37.82,-122.23,5.00001', shape=(), dtype=string)\n",
            "tf.Tensor(b'3.6186,52.0,4.472329472329473,1.0386100386100385,1518.0,1.9536679536679538,37.77,-122.44,5.00001', shape=(), dtype=string)\n",
            "tf.Tensor(b'5.9897,8.0,6.125,0.9435483870967742,711.0,2.8669354838709675,36.85,-119.77,1.236', shape=(), dtype=string)\n",
            "tf.Tensor(b'3.8929,19.0,4.974293059125964,1.025706940874036,1126.0,2.8946015424164524,34.1,-117.81,1.446', shape=(), dtype=string)\n",
            "tf.Tensor(b'3.3531,12.0,8.551136363636363,1.7215909090909092,1554.0,2.9431818181818183,38.83,-122.74,0.908', shape=(), dtype=string)\n",
            "tf.Tensor(b'4.3702,7.0,7.409893992932862,1.1890459363957597,1355.0,2.393992932862191,39.24,-121.21,2.261', shape=(), dtype=string)\n",
            "tf.Tensor(b'1.5758,11.0,4.789346246973365,1.1138014527845037,2756.0,2.2243744955609364,34.41,-117.29,1.083', shape=(), dtype=string)\n",
            "tf.Tensor(b'3.625,18.0,6.469135802469136,1.1419753086419753,469.0,2.8950617283950617,38.37,-122.0,1.25', shape=(), dtype=string)\n",
            "tf.Tensor(b'2.6103,2.0,7.30859375,1.59765625,707.0,2.76171875,37.52,-120.88,1.336', shape=(), dtype=string)\n",
            "tf.Tensor(b'2.6641,24.0,3.7514188422247448,1.1146424517593643,2085.0,2.366628830874007,33.88,-118.14,1.682', shape=(), dtype=string)\n",
            "tf.Tensor(b'4.7813,5.0,5.703994760969221,1.0569744597249509,4372.0,2.8631303208906353,32.75,-116.91,2.409', shape=(), dtype=string)\n",
            "tf.Tensor(b'2.8462,35.0,3.454761904761905,1.0357142857142858,1888.0,4.495238095238095,33.94,-118.35,1.491', shape=(), dtype=string)\n",
            "tf.Tensor(b'3.5547,25.0,6.172413793103448,1.0919540229885059,882.0,3.3793103448275863,37.49,-120.82,1.224', shape=(), dtype=string)\n",
            "tf.Tensor(b'4.7295,14.0,5.60377358490566,0.969811320754717,6295.0,3.393530997304582,33.89,-117.48,1.499', shape=(), dtype=string)\n",
            "tf.Tensor(b'5.9359,24.0,6.786307053941909,1.053941908713693,1496.0,3.103734439834025,32.81,-117.23,4.222', shape=(), dtype=string)\n",
            "tf.Tensor(b'4.2841,46.0,6.521390374331551,1.1470588235294117,944.0,2.5240641711229945,33.84,-118.13,3.124', shape=(), dtype=string)\n",
            "tf.Tensor(b'3.6875,47.0,5.97741935483871,1.1129032258064515,757.0,2.4419354838709677,34.18,-118.23,4.22', shape=(), dtype=string)\n",
            "tf.Tensor(b'6.9322,52.0,6.450777202072539,0.9015544041450777,468.0,2.4248704663212437,32.74,-117.21,3.345', shape=(), dtype=string)\n",
            "tf.Tensor(b'3.9559,42.0,4.6528662420382165,0.9617834394904459,986.0,3.140127388535032,33.88,-117.99,1.611', shape=(), dtype=string)\n",
            "tf.Tensor(b'5.2722,17.0,5.532423208191126,1.0204778156996588,1028.0,3.508532423208191,37.44,-121.88,1.869', shape=(), dtype=string)\n",
            "tf.Tensor(b'2.6629,21.0,4.858156028368795,1.0904255319148937,2630.0,4.663120567375887,36.42,-121.31,1.027', shape=(), dtype=string)\n",
            "tf.Tensor(b'10.3345,5.0,8.74031007751938,1.0426356589147288,876.0,3.395348837209302,37.76,-121.93,4.614', shape=(), dtype=string)\n",
            "tf.Tensor(b'4.6042,31.0,5.539823008849558,0.995575221238938,714.0,3.15929203539823,33.84,-117.98,2.207', shape=(), dtype=string)\n",
            "tf.Tensor(b'2.4635,41.0,4.312,1.128,1110.0,2.96,34.04,-118.35,1.694', shape=(), dtype=string)\n",
            "tf.Tensor(b'1.85,49.0,5.096153846153846,1.1610576923076923,1522.0,3.6586538461538463,34.02,-118.3,1.168', shape=(), dtype=string)\n",
            "tf.Tensor(b'2.0785,36.0,4.52,1.0466666666666666,1469.0,4.8966666666666665,33.92,-118.19,1.398', shape=(), dtype=string)\n",
            "tf.Tensor(b'5.4346,17.0,6.261168384879725,1.5051546391752577,578.0,1.986254295532646,34.08,-119.0,4.286', shape=(), dtype=string)\n",
            "tf.Tensor(b'4.4559,21.0,4.778645833333333,1.1119791666666667,1038.0,2.703125,33.81,-118.19,1.985', shape=(), dtype=string)\n",
            "tf.Tensor(b'4.7062,27.0,5.8694444444444445,1.0555555555555556,1109.0,3.0805555555555557,33.81,-118.32,3.57', shape=(), dtype=string)\n",
            "tf.Tensor(b'2.0216,18.0,5.463291139240506,1.0455696202531646,1461.0,3.69873417721519,36.38,-119.21,0.58', shape=(), dtype=string)\n",
            "tf.Tensor(b'4.1554,33.0,5.664107485604607,1.0153550863723608,1288.0,2.4721689059500958,37.28,-121.88,3.131', shape=(), dtype=string)\n",
            "tf.Tensor(b'4.2589,21.0,6.487684729064039,1.0369458128078817,1376.0,3.3891625615763545,33.98,-117.43,1.522', shape=(), dtype=string)\n",
            "tf.Tensor(b'3.415,52.0,4.627639155470249,1.0095969289827256,2165.0,4.155470249520153,33.74,-117.87,1.725', shape=(), dtype=string)\n",
            "tf.Tensor(b'3.0189,29.0,5.557065217391305,1.0815217391304348,912.0,2.4782608695652173,32.8,-117.0,1.441', shape=(), dtype=string)\n",
            "tf.Tensor(b'3.25,19.0,5.800469483568075,1.011737089201878,1040.0,2.4413145539906105,36.08,-119.03,0.806', shape=(), dtype=string)\n",
            "tf.Tensor(b'3.1442,21.0,4.709163346613546,0.9681274900398407,733.0,2.9203187250996017,34.65,-120.45,1.316', shape=(), dtype=string)\n",
            "tf.Tensor(b'2.7222,25.0,5.528301886792453,1.2547169811320755,1117.0,2.634433962264151,41.86,-123.26,0.646', shape=(), dtype=string)\n",
            "tf.Tensor(b'4.0313,19.0,4.444444444444445,1.0902777777777777,1413.0,3.2708333333333335,33.75,-117.92,1.475', shape=(), dtype=string)\n",
            "tf.Tensor(b'1.3785,47.0,4.310344827586207,0.9623824451410659,843.0,2.6426332288401255,37.85,-122.27,1.423', shape=(), dtype=string)\n",
            "tf.Tensor(b'5.269,36.0,6.090909090909091,1.0,676.0,2.9264069264069263,33.84,-118.34,3.319', shape=(), dtype=string)\n",
            "tf.Tensor(b'4.7341,4.0,5.274753758424054,1.130637636080871,4762.0,2.468636599274235,33.66,-117.67,2.374', shape=(), dtype=string)\n",
            "tf.Tensor(b'3.5673,17.0,5.453731343283582,1.0388059701492538,766.0,2.2865671641791043,34.65,-118.23,1.363', shape=(), dtype=string)\n",
            "tf.Tensor(b'4.0833,49.0,5.603104212860311,1.0221729490022173,1344.0,2.9800443458980044,33.96,-117.39,1.144', shape=(), dtype=string)\n",
            "tf.Tensor(b'4.385,35.0,6.356451612903226,1.0403225806451613,1668.0,2.6903225806451614,38.26,-122.73,3.177', shape=(), dtype=string)\n",
            "tf.Tensor(b'3.75,10.0,3.45,0.8,50.0,2.5,38.01,-121.29,1.208', shape=(), dtype=string)\n",
            "tf.Tensor(b'1.7011,45.0,4.057017543859649,1.013157894736842,797.0,3.495614035087719,36.73,-119.8,0.448', shape=(), dtype=string)\n",
            "tf.Tensor(b'3.5968,12.0,5.841346153846154,1.0280448717948718,3960.0,3.173076923076923,38.49,-121.4,1.063', shape=(), dtype=string)\n",
            "tf.Tensor(b'1.462,27.0,4.335329341317365,1.0239520958083832,1514.0,2.2664670658682633,34.12,-117.27,0.702', shape=(), dtype=string)\n",
            "tf.Tensor(b'3.5446,34.0,5.233100233100233,0.9184149184149184,1849.0,4.31002331002331,32.77,-117.07,1.855', shape=(), dtype=string)\n",
            "tf.Tensor(b'4.8083,5.0,6.914342629482071,1.0557768924302788,1541.0,3.0697211155378485,33.52,-117.05,3.477', shape=(), dtype=string)\n",
            "tf.Tensor(b'3.8672,50.0,5.334801762114537,1.1497797356828194,523.0,2.303964757709251,37.88,-122.29,2.167', shape=(), dtype=string)\n",
            "tf.Tensor(b'3.2104,25.0,3.417293233082707,1.0845864661654134,1426.0,2.680451127819549,33.74,-117.84,1.125', shape=(), dtype=string)\n",
            "tf.Tensor(b'3.3462,34.0,3.9502762430939224,0.9861878453038674,805.0,2.223756906077348,34.02,-118.41,3.07', shape=(), dtype=string)\n",
            "tf.Tensor(b'2.4167,36.0,4.732984293193717,1.0,627.0,3.282722513089005,34.19,-118.39,1.929', shape=(), dtype=string)\n",
            "tf.Tensor(b'5.8964,36.0,5.932489451476793,0.9451476793248945,598.0,2.523206751054852,37.51,-122.27,4.148', shape=(), dtype=string)\n",
            "tf.Tensor(b'2.6065,18.0,5.534883720930233,0.9767441860465116,859.0,2.8538205980066444,36.29,-119.11,0.938', shape=(), dtype=string)\n",
            "tf.Tensor(b'3.6094,52.0,6.05625,1.0375,788.0,2.4625,37.96,-121.31,1.184', shape=(), dtype=string)\n",
            "tf.Tensor(b'5.5,10.0,5.837146702557201,1.0767160161507403,1813.0,2.440107671601615,37.67,-121.87,2.472', shape=(), dtype=string)\n",
            "tf.Tensor(b'2.5212,21.0,5.897923875432526,1.3350634371395618,3623.0,2.0893886966551327,33.82,-116.52,1.452', shape=(), dtype=string)\n",
            "tf.Tensor(b'1.4688,40.0,4.32,1.0666666666666667,761.0,3.382222222222222,33.91,-118.24,0.882', shape=(), dtype=string)\n",
            "tf.Tensor(b'4.2273,18.0,5.069252077562327,0.8670360110803325,905.0,2.5069252077562325,38.67,-121.26,1.418', shape=(), dtype=string)\n",
            "tf.Tensor(b'4.4792,11.0,8.047619047619047,1.2108843537414966,543.0,3.693877551020408,33.68,-116.95,1.739', shape=(), dtype=string)\n",
            "tf.Tensor(b'0.9566,52.0,4.260233918128655,1.1374269005847952,802.0,2.345029239766082,39.72,-121.84,0.69', shape=(), dtype=string)\n",
            "tf.Tensor(b'5.6895,24.0,6.571223021582734,0.9899280575539569,2102.0,3.0244604316546764,37.27,-121.88,2.89', shape=(), dtype=string)\n",
            "tf.Tensor(b'4.1212,52.0,5.520161290322581,1.0040322580645162,490.0,1.9758064516129032,37.9,-122.28,2.875', shape=(), dtype=string)\n",
            "tf.Tensor(b'5.3321,7.0,7.830524344569288,1.2303370786516854,3907.0,3.6582397003745317,37.73,-121.44,2.081', shape=(), dtype=string)\n",
            "tf.Tensor(b'3.2734,32.0,4.239583333333333,1.08125,2282.0,4.754166666666666,33.92,-118.18,1.364', shape=(), dtype=string)\n",
            "tf.Tensor(b'3.0089,44.0,4.738255033557047,1.1812080536912752,399.0,2.6778523489932886,34.27,-119.28,1.667', shape=(), dtype=string)\n",
            "tf.Tensor(b'1.9818,33.0,2.3061889250814334,1.1172638436482085,2013.0,3.278501628664495,34.06,-118.27,2.083', shape=(), dtype=string)\n",
            "tf.Tensor(b'2.2024,29.0,5.271341463414634,1.0823170731707317,848.0,2.5853658536585367,41.53,-122.56,0.609', shape=(), dtype=string)\n",
            "tf.Tensor(b'5.7451,17.0,5.482926829268293,0.9121951219512195,553.0,2.6975609756097563,32.83,-117.22,2.373', shape=(), dtype=string)\n",
            "tf.Tensor(b'4.1797,25.0,4.786407766990291,1.0161812297734627,977.0,3.161812297734628,34.44,-119.79,2.718', shape=(), dtype=string)\n",
            "tf.Tensor(b'5.0623,35.0,5.972350230414746,1.1290322580645162,1427.0,3.2880184331797233,34.21,-118.55,2.464', shape=(), dtype=string)\n",
            "tf.Tensor(b'10.5941,18.0,7.537037037037037,0.9481481481481482,1580.0,2.925925925925926,35.34,-119.08,2.458', shape=(), dtype=string)\n",
            "tf.Tensor(b'3.1912,20.0,3.8947368421052633,1.0820073439412485,1770.0,2.1664626682986534,33.73,-117.99,2.208', shape=(), dtype=string)\n",
            "tf.Tensor(b'4.6937,33.0,5.316666666666666,0.9733333333333334,991.0,3.3033333333333332,37.97,-122.32,1.341', shape=(), dtype=string)\n",
            "tf.Tensor(b'3.2917,26.0,5.034979423868313,0.9917695473251029,1405.0,2.8909465020576133,33.2,-117.36,1.508', shape=(), dtype=string)\n",
            "tf.Tensor(b'2.6288,23.0,6.421906693711968,1.4198782961460445,1097.0,2.2251521298174444,35.75,-118.44,0.96', shape=(), dtype=string)\n",
            "tf.Tensor(b'2.4074,24.0,3.3333333333333335,1.0504009163802979,2522.0,2.888888888888889,34.17,-118.31,2.194', shape=(), dtype=string)\n",
            "tf.Tensor(b'3.1917,21.0,5.563380281690141,0.971830985915493,533.0,2.5023474178403755,38.07,-121.29,2.045', shape=(), dtype=string)\n",
            "tf.Tensor(b'4.3919,46.0,4.915032679738562,0.8823529411764706,814.0,2.6601307189542482,33.97,-118.32,1.571', shape=(), dtype=string)\n",
            "tf.Tensor(b'5.5791,32.0,6.610223642172524,1.0095846645367412,1541.0,2.461661341853035,37.99,-122.51,4.333', shape=(), dtype=string)\n",
            "tf.Tensor(b'3.2171,16.0,4.871980676328502,1.0217391304347827,1177.0,2.842995169082126,39.44,-123.79,1.162', shape=(), dtype=string)\n",
            "tf.Tensor(b'1.1667,52.0,3.75,1.0,183.0,3.267857142857143,37.81,-122.27,1.125', shape=(), dtype=string)\n",
            "tf.Tensor(b'1.837,27.0,4.152487961476726,1.1701444622792938,1500.0,2.407704654895666,37.96,-122.04,1.75', shape=(), dtype=string)\n",
            "tf.Tensor(b'4.7396,52.0,7.098245614035088,1.056140350877193,649.0,2.2771929824561403,32.76,-117.18,4.417', shape=(), dtype=string)\n",
            "tf.Tensor(b'2.125,36.0,3.464788732394366,0.9683098591549296,1024.0,3.6056338028169015,34.02,-118.13,1.535', shape=(), dtype=string)\n",
            "tf.Tensor(b'3.2717,36.0,5.236180904522613,1.0050251256281406,1097.0,2.7562814070351758,32.73,-117.04,1.307', shape=(), dtype=string)\n",
            "tf.Tensor(b'5.7934,52.0,4.151565074135091,1.0691927512355848,959.0,1.5799011532125207,37.8,-122.43,5.00001', shape=(), dtype=string)\n",
            "tf.Tensor(b'2.5,52.0,4.804761904761905,1.1,929.0,4.423809523809524,37.33,-121.9,1.625', shape=(), dtype=string)\n",
            "tf.Tensor(b'5.8898,22.0,6.445012787723785,0.989769820971867,1338.0,3.421994884910486,33.62,-117.71,2.428', shape=(), dtype=string)\n",
            "tf.Tensor(b'6.1047,7.0,5.925431274346132,1.011686143572621,6075.0,3.380634390651085,37.57,-122.05,2.782', shape=(), dtype=string)\n",
            "tf.Tensor(b'5.2015,6.0,5.69647847959754,1.0519843487982112,4377.0,2.446618222470654,38.0,-122.09,2.042', shape=(), dtype=string)\n",
            "tf.Tensor(b'2.0308,6.0,4.827556325823224,1.1403812824956672,4048.0,3.5077989601386483,34.1,-117.45,0.911', shape=(), dtype=string)\n",
            "tf.Tensor(b'4.3158,49.0,5.478260869565218,1.0739130434782609,1435.0,2.079710144927536,34.04,-118.48,5.00001', shape=(), dtype=string)\n",
            "tf.Tensor(b'3.2344,36.0,4.321492007104796,1.0390763765541742,1565.0,2.7797513321492007,34.08,-118.12,2.349', shape=(), dtype=string)\n",
            "tf.Tensor(b'2.0136,13.0,5.309523809523809,1.1011904761904763,2225.0,2.6488095238095237,34.49,-117.17,0.941', shape=(), dtype=string)\n",
            "tf.Tensor(b'3.89,36.0,5.805471124620061,1.0699088145896656,1593.0,4.8419452887537995,33.72,-117.88,1.7', shape=(), dtype=string)\n",
            "tf.Tensor(b'7.2165,25.0,5.674358974358975,0.9230769230769231,1066.0,2.7333333333333334,37.37,-122.01,3.609', shape=(), dtype=string)\n",
            "tf.Tensor(b'4.4611,21.0,6.2759134973900075,1.0335570469798658,4308.0,3.2125279642058167,34.13,-117.61,1.646', shape=(), dtype=string)\n",
            "tf.Tensor(b'2.8036,46.0,4.053333333333334,1.072,815.0,2.1733333333333333,37.89,-122.3,2.116', shape=(), dtype=string)\n",
            "tf.Tensor(b'2.0455,21.0,5.615384615384615,1.0555555555555556,1364.0,2.9145299145299144,39.48,-121.52,0.594', shape=(), dtype=string)\n",
            "tf.Tensor(b'3.375,22.0,4.639405204460966,1.0074349442379182,579.0,2.1524163568773234,37.82,-121.99,2.0', shape=(), dtype=string)\n",
            "tf.Tensor(b'3.6591,52.0,5.673076923076923,0.9153846153846154,736.0,2.830769230769231,37.96,-121.3,1.051', shape=(), dtype=string)\n",
            "tf.Tensor(b'2.0673,45.0,3.96218487394958,1.2142857142857142,953.0,4.004201680672269,34.03,-118.28,1.516', shape=(), dtype=string)\n",
            "tf.Tensor(b'3.3801,20.0,4.186991869918699,1.0867208672086721,2109.0,2.8577235772357725,34.1,-118.11,1.925', shape=(), dtype=string)\n",
            "tf.Tensor(b'7.2478,25.0,7.855392156862745,1.0024509803921569,1291.0,3.1642156862745097,33.9,-117.86,2.992', shape=(), dtype=string)\n",
            "tf.Tensor(b'2.2071,34.0,5.71712158808933,1.0843672456575681,1506.0,3.73697270471464,35.49,-119.38,0.646', shape=(), dtype=string)\n",
            "tf.Tensor(b'7.7313,17.0,6.793478260869565,0.9320652173913043,1242.0,3.375,33.69,-117.96,3.167', shape=(), dtype=string)\n",
            "tf.Tensor(b'3.2708,43.0,4.188571428571429,0.9257142857142857,497.0,2.84,37.47,-122.21,2.553', shape=(), dtype=string)\n",
            "tf.Tensor(b'1.6009,39.0,5.12183908045977,1.2459770114942528,1516.0,3.485057471264368,35.39,-118.99,0.488', shape=(), dtype=string)\n",
            "tf.Tensor(b'2.543,46.0,4.477037037037037,1.031111111111111,1293.0,1.9155555555555555,37.87,-122.28,2.207', shape=(), dtype=string)\n",
            "tf.Tensor(b'2.8393,15.0,5.427402862985685,1.0838445807770962,1267.0,2.591002044989775,37.31,-119.64,1.044', shape=(), dtype=string)\n",
            "tf.Tensor(b'4.0968,30.0,3.9354624085163006,1.164337990685296,2136.0,1.4211576846307385,33.74,-118.18,3.1', shape=(), dtype=string)\n",
            "tf.Tensor(b'3.2297,10.0,3.4607961399276235,1.1351025331724969,2162.0,2.6079613992762365,34.2,-118.6,1.5', shape=(), dtype=string)\n",
            "tf.Tensor(b'4.5699,36.0,5.598173515981735,0.9634703196347032,711.0,3.2465753424657535,33.92,-118.09,1.708', shape=(), dtype=string)\n",
            "tf.Tensor(b'7.8392,36.0,7.762773722627737,1.083941605839416,761.0,2.7773722627737225,34.17,-118.55,5.00001', shape=(), dtype=string)\n",
            "tf.Tensor(b'2.8385,42.0,4.514344262295082,0.9569672131147541,1470.0,3.012295081967213,34.03,-118.13,1.922', shape=(), dtype=string)\n",
            "tf.Tensor(b'4.4871,2.0,6.6907001044932075,1.1661442006269593,3327.0,3.476489028213166,38.01,-121.29,1.379', shape=(), dtype=string)\n",
            "tf.Tensor(b'3.075,25.0,4.3259668508287294,0.9723756906077348,784.0,2.165745856353591,38.35,-122.5,1.651', shape=(), dtype=string)\n",
            "tf.Tensor(b'2.694,41.0,5.233333333333333,1.1229166666666666,1179.0,2.45625,38.04,-122.26,1.23', shape=(), dtype=string)\n",
            "tf.Tensor(b'3.6696,40.0,5.230769230769231,1.0796703296703296,1183.0,3.25,34.1,-118.09,2.104', shape=(), dtype=string)\n",
            "tf.Tensor(b'5.3767,29.0,5.829032258064516,1.0419354838709678,1234.0,3.9806451612903224,34.22,-118.42,2.33', shape=(), dtype=string)\n",
            "tf.Tensor(b'3.5402,24.0,4.747311827956989,0.9139784946236559,1028.0,2.763440860215054,38.48,-121.45,0.987', shape=(), dtype=string)\n",
            "tf.Tensor(b'5.0508,32.0,7.575688073394495,1.1009174311926606,1185.0,2.717889908256881,38.59,-121.36,2.257', shape=(), dtype=string)\n",
            "tf.Tensor(b'3.0958,49.0,4.034246575342466,1.0662100456621004,1066.0,2.4337899543378994,34.1,-118.28,2.109', shape=(), dtype=string)\n",
            "tf.Tensor(b'1.625,38.0,4.616766467065868,1.089820359281437,1220.0,3.6526946107784433,36.97,-120.06,0.528', shape=(), dtype=string)\n",
            "tf.Tensor(b'6.3443,39.0,5.508130081300813,0.8699186991869918,682.0,2.772357723577236,37.62,-122.42,3.247', shape=(), dtype=string)\n",
            "tf.Tensor(b'4.5341,44.0,5.453083109919571,1.1340482573726542,1491.0,3.997319034852547,37.7,-122.47,2.365', shape=(), dtype=string)\n",
            "tf.Tensor(b'2.1974,51.0,4.23489932885906,1.0369127516778522,608.0,2.040268456375839,38.01,-122.13,1.393', shape=(), dtype=string)\n",
            "tf.Tensor(b'6.155,16.0,6.998316498316498,0.9865319865319865,2036.0,3.4276094276094278,33.92,-117.58,2.464', shape=(), dtype=string)\n",
            "tf.Tensor(b'5.5632,24.0,6.343355965082444,0.9776915615906887,2667.0,2.5868089233753637,38.64,-121.36,1.752', shape=(), dtype=string)\n",
            "tf.Tensor(b'2.9798,35.0,4.86254295532646,1.0103092783505154,591.0,2.0309278350515463,33.84,-118.18,3.156', shape=(), dtype=string)\n",
            "tf.Tensor(b'4.4357,16.0,6.0285714285714285,1.042857142857143,793.0,2.8321428571428573,38.39,-122.84,2.169', shape=(), dtype=string)\n",
            "tf.Tensor(b'2.4821,43.0,4.778761061946903,1.1150442477876106,1221.0,2.7013274336283186,32.72,-117.13,1.406', shape=(), dtype=string)\n",
            "tf.Tensor(b'6.1181,18.0,6.7416201117318435,1.0027932960893855,2471.0,3.451117318435754,33.7,-117.94,2.845', shape=(), dtype=string)\n",
            "tf.Tensor(b'3.3941,22.0,5.4506079027355625,0.9984802431610942,3526.0,2.6793313069908815,38.74,-121.26,1.359', shape=(), dtype=string)\n",
            "tf.Tensor(b'2.2844,27.0,4.104542177361211,1.0720980533525595,2334.0,1.6827685652487383,38.62,-121.39,1.705', shape=(), dtype=string)\n",
            "tf.Tensor(b'6.6603,52.0,6.6573426573426575,1.0384615384615385,797.0,2.7867132867132867,34.16,-118.24,3.804', shape=(), dtype=string)\n",
            "tf.Tensor(b'5.9158,27.0,5.700996677740863,0.9634551495016611,817.0,2.7142857142857144,37.34,-122.0,3.431', shape=(), dtype=string)\n",
            "tf.Tensor(b'3.9167,34.0,5.85140562248996,0.9718875502008032,735.0,2.9518072289156625,37.63,-122.09,1.895', shape=(), dtype=string)\n",
            "tf.Tensor(b'4.4722,18.0,5.511560693641618,1.0419075144508672,1881.0,2.718208092485549,34.11,-117.79,2.156', shape=(), dtype=string)\n",
            "tf.Tensor(b'3.125,52.0,6.13103448275862,1.1172413793103448,273.0,1.8827586206896552,38.56,-121.47,0.856', shape=(), dtype=string)\n",
            "tf.Tensor(b'4.6625,44.0,6.197333333333333,1.1013333333333333,823.0,2.1946666666666665,38.6,-121.45,1.589', shape=(), dtype=string)\n",
            "tf.Tensor(b'5.1637,36.0,5.291161178509532,1.10051993067591,1234.0,2.1386481802426345,34.03,-118.41,5.00001', shape=(), dtype=string)\n",
            "tf.Tensor(b'3.3882,17.0,6.155778894472362,1.1256281407035176,1693.0,2.835845896147404,33.22,-117.22,1.908', shape=(), dtype=string)\n",
            "tf.Tensor(b'7.7197,8.0,9.0,1.2857142857142858,25.0,3.5714285714285716,34.02,-117.61,2.75', shape=(), dtype=string)\n",
            "tf.Tensor(b'1.9564,39.0,3.945619335347432,1.042296072507553,1332.0,4.02416918429003,33.98,-118.28,0.922', shape=(), dtype=string)\n",
            "tf.Tensor(b'3.3839,52.0,4.364556962025317,1.0531645569620254,1016.0,2.572151898734177,37.8,-122.41,4.0', shape=(), dtype=string)\n",
            "tf.Tensor(b'5.0473,5.0,5.371508379888268,1.0977653631284916,2053.0,2.86731843575419,38.02,-122.26,1.848', shape=(), dtype=string)\n",
            "tf.Tensor(b'4.4882,15.0,6.573264781491003,1.070694087403599,2418.0,3.107969151670951,38.28,-122.03,1.44', shape=(), dtype=string)\n",
            "tf.Tensor(b'3.1979,20.0,5.186676994577847,1.027110766847405,3687.0,2.8559256390395045,32.83,-116.99,1.546', shape=(), dtype=string)\n",
            "tf.Tensor(b'4.7386,36.0,5.981081081081081,1.0432432432432432,950.0,2.5675675675675675,37.95,-122.06,1.864', shape=(), dtype=string)\n",
            "tf.Tensor(b'4.5568,11.0,4.934210526315789,1.049342105263158,899.0,2.9572368421052633,38.34,-121.97,1.272', shape=(), dtype=string)\n",
            "tf.Tensor(b'1.6351,23.0,4.9950248756218905,1.099502487562189,697.0,3.4676616915422884,32.79,-115.55,0.596', shape=(), dtype=string)\n",
            "tf.Tensor(b'5.8718,6.0,6.505962521294719,0.9369676320272572,1738.0,2.9608177172061327,38.77,-121.28,2.014', shape=(), dtype=string)\n",
            "tf.Tensor(b'2.9107,35.0,3.5783132530120483,1.0301204819277108,1373.0,4.135542168674699,34.0,-118.08,1.509', shape=(), dtype=string)\n",
            "tf.Tensor(b'2.7659,10.0,5.364192807957154,1.1117061973986229,4163.0,3.1851568477429226,35.28,-119.01,0.775', shape=(), dtype=string)\n",
            "tf.Tensor(b'2.5562,43.0,6.072463768115942,1.1594202898550725,1056.0,3.8260869565217392,36.65,-119.53,0.932', shape=(), dtype=string)\n",
            "tf.Tensor(b'4.1406,23.0,4.561151079136691,0.9928057553956835,2012.0,3.618705035971223,33.87,-118.08,2.008', shape=(), dtype=string)\n",
            "tf.Tensor(b'1.9944,52.0,6.046610169491525,1.1906779661016949,620.0,2.6271186440677967,37.76,-122.41,2.625', shape=(), dtype=string)\n",
            "tf.Tensor(b'4.0452,11.0,3.474464579901153,0.9752883031301482,2744.0,4.520593080724876,37.36,-121.85,2.059', shape=(), dtype=string)\n",
            "tf.Tensor(b'3.8244,14.0,5.865951742627346,1.0683646112600536,1809.0,2.4249329758713136,38.44,-122.76,1.8', shape=(), dtype=string)\n",
            "tf.Tensor(b'2.8681,12.0,4.27751756440281,1.1627634660421546,3215.0,3.7646370023419204,33.9,-118.17,1.142', shape=(), dtype=string)\n",
            "tf.Tensor(b'5.6152,38.0,5.989510489510489,0.9965034965034965,779.0,2.7237762237762237,34.12,-118.09,3.599', shape=(), dtype=string)\n",
            "tf.Tensor(b'2.8448,31.0,4.356807511737089,0.9976525821596244,795.0,1.8661971830985915,34.15,-118.43,3.606', shape=(), dtype=string)\n",
            "tf.Tensor(b'3.9914,3.0,6.205776173285199,1.0884476534296028,1602.0,2.891696750902527,38.66,-121.46,1.205', shape=(), dtype=string)\n",
            "tf.Tensor(b'3.175,37.0,5.337110481586402,1.0368271954674222,1052.0,2.9801699716713883,34.89,-117.04,0.668', shape=(), dtype=string)\n",
            "tf.Tensor(b'3.5551,30.0,4.712737127371274,0.9728997289972899,1914.0,5.186991869918699,33.71,-117.88,1.852', shape=(), dtype=string)\n",
            "tf.Tensor(b'1.06,31.0,3.5792682926829267,1.0975609756097562,1161.0,3.5396341463414633,34.54,-117.3,0.565', shape=(), dtype=string)\n",
            "tf.Tensor(b'6.0069,29.0,6.305057096247961,1.3278955954323002,1266.0,2.065252854812398,34.4,-119.63,5.00001', shape=(), dtype=string)\n",
            "tf.Tensor(b'2.9413,23.0,4.129221732745962,1.1292217327459617,1983.0,2.9118942731277535,37.68,-122.46,2.294', shape=(), dtype=string)\n",
            "tf.Tensor(b'3.915,34.0,5.301639344262295,1.1278688524590164,938.0,3.0754098360655737,34.2,-118.5,2.177', shape=(), dtype=string)\n",
            "tf.Tensor(b'5.388,26.0,5.772277227722772,0.9183168316831684,1285.0,3.1806930693069306,37.54,-121.99,2.25', shape=(), dtype=string)\n",
            "tf.Tensor(b'5.0092,17.0,6.1170046801872076,1.0202808112324493,1895.0,2.9563182527301093,36.82,-121.66,2.387', shape=(), dtype=string)\n",
            "tf.Tensor(b'1.9728,32.0,5.468208092485549,1.1445086705202312,624.0,3.606936416184971,37.55,-121.03,0.979', shape=(), dtype=string)\n",
            "tf.Tensor(b'2.683,15.0,6.365714285714286,1.3485714285714285,653.0,1.8657142857142857,33.83,-116.98,1.393', shape=(), dtype=string)\n",
            "tf.Tensor(b'5.1337,13.0,4.9480519480519485,0.9285714285714286,940.0,3.051948051948052,38.02,-121.93,1.548', shape=(), dtype=string)\n",
            "tf.Tensor(b'0.8941,27.0,3.517467248908297,1.0458515283842795,1457.0,3.1812227074235806,34.0,-118.26,0.919', shape=(), dtype=string)\n",
            "tf.Tensor(b'5.4592,27.0,6.800884955752212,1.0,1223.0,2.7057522123893807,35.39,-118.94,1.391', shape=(), dtype=string)\n",
            "tf.Tensor(b'3.3839,36.0,5.621621621621622,0.9954954954954955,672.0,3.027027027027027,38.26,-122.06,1.059', shape=(), dtype=string)\n",
            "tf.Tensor(b'2.5893,33.0,3.8908045977011496,1.0459770114942528,984.0,5.655172413793103,33.91,-118.23,0.889', shape=(), dtype=string)\n",
            "tf.Tensor(b'0.8658,52.0,3.7265625,0.9609375,943.0,3.68359375,34.12,-117.27,0.875', shape=(), dtype=string)\n",
            "tf.Tensor(b'4.9702,14.0,6.546933667083855,1.0225281602002503,2634.0,3.2966207759699624,36.98,-121.57,2.798', shape=(), dtype=string)\n",
            "tf.Tensor(b'3.2546,16.0,4.045725646123261,1.121272365805169,1118.0,2.2226640159045727,33.83,-117.97,1.875', shape=(), dtype=string)\n",
            "tf.Tensor(b'4.5655,35.0,5.670807453416149,0.9834368530020704,1481.0,3.0662525879917184,34.1,-117.9,1.766', shape=(), dtype=string)\n",
            "tf.Tensor(b'3.1217,37.0,5.179906542056075,1.0537383177570094,1019.0,2.380841121495327,38.4,-122.83,1.785', shape=(), dtype=string)\n",
            "tf.Tensor(b'3.343,22.0,4.285714285714286,1.216117216117216,1382.0,2.531135531135531,33.89,-117.87,1.846', shape=(), dtype=string)\n",
            "tf.Tensor(b'2.0625,35.0,4.626865671641791,0.9253731343283582,525.0,2.611940298507463,38.09,-121.26,1.55', shape=(), dtype=string)\n",
            "tf.Tensor(b'3.075,13.0,33.98969072164948,6.824742268041237,267.0,2.752577319587629,38.31,-120.27,1.083', shape=(), dtype=string)\n",
            "tf.Tensor(b'1.5603,52.0,3.5542168674698793,1.1475903614457832,1046.0,3.1506024096385543,33.78,-118.18,1.625', shape=(), dtype=string)\n",
            "tf.Tensor(b'5.1506,21.0,5.429790026246719,1.0275590551181102,3636.0,2.3858267716535435,37.33,-121.97,3.021', shape=(), dtype=string)\n",
            "tf.Tensor(b'1.7298,52.0,4.277511961722488,1.0741626794258374,1156.0,2.7655502392344498,36.75,-119.8,0.584', shape=(), dtype=string)\n",
            "tf.Tensor(b'3.4028,17.0,5.938704028021016,1.0910683012259195,1529.0,2.677758318739054,40.29,-120.54,0.91', shape=(), dtype=string)\n",
            "tf.Tensor(b'1.5284,31.0,2.7400881057268722,1.0088105726872247,597.0,2.6299559471365637,34.1,-118.32,2.0', shape=(), dtype=string)\n",
            "tf.Tensor(b'3.6389,28.0,6.0,1.0829694323144106,769.0,3.3580786026200875,37.97,-121.17,1.304', shape=(), dtype=string)\n",
            "tf.Tensor(b'3.4167,36.0,5.19634703196347,1.0410958904109588,725.0,3.310502283105023,33.86,-117.99,1.872', shape=(), dtype=string)\n",
            "tf.Tensor(b'6.4441,26.0,6.017057569296376,1.0085287846481876,1258.0,2.6823027718550105,33.69,-117.93,2.61', shape=(), dtype=string)\n",
            "tf.Tensor(b'2.5598,16.0,5.117808219178082,1.0424657534246575,1942.0,2.66027397260274,37.07,-120.83,1.202', shape=(), dtype=string)\n",
            "tf.Tensor(b'2.9119,45.0,4.796019900497512,0.8606965174129353,613.0,3.0497512437810945,37.72,-122.45,2.289', shape=(), dtype=string)\n",
            "tf.Tensor(b'4.5568,38.0,4.4520547945205475,0.9212328767123288,608.0,2.0821917808219177,37.48,-122.19,2.869', shape=(), dtype=string)\n",
            "tf.Tensor(b'5.2131,5.0,4.898805340829234,1.0182712579058328,3521.0,2.4743499648629657,33.87,-117.83,2.439', shape=(), dtype=string)\n",
            "tf.Tensor(b'2.1979,41.0,3.975378787878788,1.003787878787879,2325.0,4.403409090909091,34.03,-118.17,1.408', shape=(), dtype=string)\n",
            "tf.Tensor(b'5.5,46.0,5.443956043956044,1.0065934065934066,1034.0,2.2725274725274724,34.1,-117.72,2.897', shape=(), dtype=string)\n",
            "tf.Tensor(b'5.152,26.0,6.209302325581396,1.041860465116279,742.0,3.4511627906976745,32.6,-117.03,1.434', shape=(), dtype=string)\n",
            "tf.Tensor(b'3.8125,29.0,4.638537271448664,1.130801687763713,1509.0,2.1223628691983123,34.27,-119.23,2.445', shape=(), dtype=string)\n",
            "tf.Tensor(b'3.0938,31.0,3.6676557863501484,0.9762611275964391,1486.0,4.4094955489614245,33.98,-118.17,1.554', shape=(), dtype=string)\n",
            "tf.Tensor(b'4.7917,27.0,4.98125,0.921875,1061.0,3.315625,33.84,-118.09,2.177', shape=(), dtype=string)\n",
            "tf.Tensor(b'6.2356,42.0,4.636085626911315,1.0428134556574924,634.0,1.9388379204892967,33.88,-118.4,4.727', shape=(), dtype=string)\n",
            "tf.Tensor(b'5.0227,9.0,6.269565217391304,0.9521739130434783,633.0,2.752173913043478,34.05,-117.15,1.623', shape=(), dtype=string)\n",
            "tf.Tensor(b'4.0469,6.0,5.962264150943396,1.0867924528301887,792.0,2.9886792452830186,33.24,-117.31,1.624', shape=(), dtype=string)\n",
            "tf.Tensor(b'4.0455,33.0,5.069135802469136,1.0320987654320988,1154.0,2.8493827160493828,33.85,-118.0,1.972', shape=(), dtype=string)\n",
            "tf.Tensor(b'5.1585,18.0,6.48015873015873,0.9642857142857143,750.0,2.9761904761904763,40.57,-122.23,1.508', shape=(), dtype=string)\n",
            "tf.Tensor(b'1.9964,26.0,3.8184873949579834,1.1663865546218488,2567.0,4.314285714285714,33.77,-118.27,1.506', shape=(), dtype=string)\n",
            "tf.Tensor(b'3.5114,52.0,4.272486772486772,1.0396825396825398,633.0,1.6746031746031746,37.75,-122.43,3.475', shape=(), dtype=string)\n",
            "tf.Tensor(b'1.505,22.0,5.177514792899408,1.106508875739645,1113.0,3.2928994082840237,35.86,-119.46,0.427', shape=(), dtype=string)\n",
            "tf.Tensor(b'2.5068,26.0,4.2406931964056485,1.0673940949935816,4066.0,2.6097560975609757,33.86,-118.16,1.563', shape=(), dtype=string)\n",
            "tf.Tensor(b'2.2754,23.0,5.1298527443105755,1.036144578313253,2435.0,3.2597054886211514,39.0,-122.13,0.592', shape=(), dtype=string)\n",
            "tf.Tensor(b'3.8068,34.0,4.630996309963099,0.9870848708487084,1516.0,2.7970479704797047,34.22,-118.25,2.67', shape=(), dtype=string)\n",
            "tf.Tensor(b'2.7079,21.0,4.857425742574257,1.0257425742574258,1326.0,2.625742574257426,38.61,-121.33,1.48', shape=(), dtype=string)\n",
            "tf.Tensor(b'2.774,38.0,4.809523809523809,0.981859410430839,1547.0,3.507936507936508,35.39,-118.97,0.595', shape=(), dtype=string)\n",
            "tf.Tensor(b'2.4464,33.0,4.183157894736842,0.9578947368421052,1369.0,2.8821052631578947,34.08,-117.64,1.226', shape=(), dtype=string)\n",
            "tf.Tensor(b'3.9833,21.0,4.311871227364185,1.13682092555332,1803.0,3.6277665995975856,34.25,-118.45,1.625', shape=(), dtype=string)\n",
            "tf.Tensor(b'2.4844,35.0,5.649819494584838,1.0469314079422383,861.0,3.108303249097473,38.68,-121.38,0.77', shape=(), dtype=string)\n",
            "tf.Tensor(b'4.0982,36.0,5.880769230769231,1.023076923076923,683.0,2.626923076923077,32.79,-117.09,1.712', shape=(), dtype=string)\n",
            "tf.Tensor(b'4.9,36.0,4.479338842975206,0.9834710743801653,231.0,1.9090909090909092,37.88,-122.18,3.542', shape=(), dtype=string)\n",
            "tf.Tensor(b'5.611,36.0,5.727891156462585,1.0249433106575965,996.0,2.258503401360544,33.98,-118.4,4.566', shape=(), dtype=string)\n",
            "tf.Tensor(b'1.6184,52.0,2.17039586919105,1.0602409638554218,2309.0,3.974182444061962,34.06,-118.28,2.25', shape=(), dtype=string)\n",
            "tf.Tensor(b'3.5189,17.0,5.498201438848921,1.0377697841726619,1497.0,2.6924460431654675,40.55,-122.06,1.01', shape=(), dtype=string)\n",
            "tf.Tensor(b'2.182,37.0,4.232970027247957,1.2302452316076293,3456.0,4.708446866485014,33.94,-118.34,1.475', shape=(), dtype=string)\n",
            "tf.Tensor(b'4.375,38.0,5.40084388185654,0.9746835443037974,828.0,3.4936708860759493,34.18,-118.17,1.667', shape=(), dtype=string)\n",
            "tf.Tensor(b'4.175,35.0,5.420529801324503,0.9933774834437086,894.0,2.9602649006622515,34.26,-118.45,2.096', shape=(), dtype=string)\n",
            "tf.Tensor(b'6.7232,5.0,7.437810945273632,1.1691542288557213,555.0,2.7611940298507465,38.07,-122.55,3.45', shape=(), dtype=string)\n",
            "tf.Tensor(b'4.6957,41.0,4.880459770114943,0.9770114942528736,1032.0,2.372413793103448,37.37,-122.03,2.848', shape=(), dtype=string)\n",
            "tf.Tensor(b'5.9684,25.0,6.413101604278075,0.9953208556149733,5237.0,3.500668449197861,33.85,-118.24,1.933', shape=(), dtype=string)\n",
            "tf.Tensor(b'5.4834,22.0,6.622324159021407,0.9740061162079511,1952.0,2.984709480122324,32.81,-116.91,2.32', shape=(), dtype=string)\n",
            "tf.Tensor(b'3.522,28.0,4.065241844769404,1.079865016872891,3282.0,3.6917885264341956,33.77,-117.92,1.903', shape=(), dtype=string)\n",
            "tf.Tensor(b'3.9036,37.0,4.968023255813954,0.9680232558139535,778.0,2.261627906976744,33.95,-118.13,3.266', shape=(), dtype=string)\n",
            "tf.Tensor(b'6.6537,32.0,6.330917874396135,0.9951690821256038,1285.0,3.103864734299517,34.24,-118.48,2.676', shape=(), dtype=string)\n",
            "tf.Tensor(b'3.7452,14.0,5.688212927756654,1.0893536121673004,1631.0,3.1007604562737643,35.05,-118.19,0.832', shape=(), dtype=string)\n",
            "tf.Tensor(b'3.7768,5.0,5.802037845705968,1.0727802037845706,1887.0,2.7467248908296944,38.54,-122.79,2.138', shape=(), dtype=string)\n",
            "tf.Tensor(b'3.4812,52.0,4.520689655172414,1.0689655172413792,707.0,2.4379310344827587,34.06,-118.34,4.328', shape=(), dtype=string)\n",
            "tf.Tensor(b'7.7042,32.0,6.62753807106599,1.0279187817258884,4474.0,2.8388324873096447,33.79,-118.38,5.00001', shape=(), dtype=string)\n",
            "tf.Tensor(b'3.2452,17.0,5.841573033707865,1.149438202247191,2036.0,2.2876404494382023,38.58,-122.83,1.688', shape=(), dtype=string)\n",
            "tf.Tensor(b'5.8659,52.0,6.399317406143345,1.0341296928327646,735.0,2.508532423208191,34.11,-118.31,4.333', shape=(), dtype=string)\n",
            "tf.Tensor(b'3.8125,39.0,4.487012987012987,1.0227272727272727,1090.0,3.538961038961039,34.07,-118.04,1.74', shape=(), dtype=string)\n",
            "tf.Tensor(b'5.1507,34.0,6.257396449704142,1.0414201183431953,1253.0,3.7071005917159763,33.77,-118.02,2.075', shape=(), dtype=string)\n",
            "tf.Tensor(b'5.8686,15.0,5.017114914425428,0.9902200488997555,1380.0,3.374083129584352,37.38,-121.86,1.811', shape=(), dtype=string)\n",
            "tf.Tensor(b'4.0139,36.0,5.546052631578948,0.9967105263157895,744.0,2.4473684210526314,38.45,-122.68,1.631', shape=(), dtype=string)\n",
            "tf.Tensor(b'2.6767,15.0,4.512448132780083,1.170124481327801,1194.0,2.4771784232365146,36.81,-119.72,0.875', shape=(), dtype=string)\n",
            "tf.Tensor(b'1.5521,30.0,3.8506787330316743,1.002262443438914,1966.0,4.447963800904978,33.99,-118.26,0.975', shape=(), dtype=string)\n",
            "tf.Tensor(b'4.0208,52.0,5.877431906614786,1.1070038910505837,1479.0,2.877431906614786,37.78,-122.47,4.146', shape=(), dtype=string)\n",
            "tf.Tensor(b'3.5871,30.0,4.098540145985401,1.0072992700729928,1032.0,1.8832116788321167,33.83,-118.19,3.471', shape=(), dtype=string)\n",
            "tf.Tensor(b'3.0417,25.0,4.926605504587156,1.1712538226299694,554.0,1.694189602446483,33.67,-117.95,1.373', shape=(), dtype=string)\n",
            "tf.Tensor(b'2.3929,46.0,4.454081632653061,1.1403061224489797,1296.0,3.306122448979592,34.01,-118.14,1.568', shape=(), dtype=string)\n",
            "tf.Tensor(b'3.6681,34.0,5.326760563380281,0.9098591549295775,966.0,2.72112676056338,36.79,-119.71,0.82', shape=(), dtype=string)\n",
            "tf.Tensor(b'3.6298,34.0,4.2896825396825395,0.8134920634920635,1325.0,5.257936507936508,34.06,-117.8,1.085', shape=(), dtype=string)\n",
            "tf.Tensor(b'3.6726,38.0,4.221843003412969,1.0170648464163823,1073.0,3.6621160409556315,34.29,-118.43,1.546', shape=(), dtype=string)\n",
            "tf.Tensor(b'1.8984,19.0,4.306513409961686,1.1111111111111112,598.0,2.2911877394636013,35.65,-117.81,0.543', shape=(), dtype=string)\n",
            "tf.Tensor(b'5.3062,16.0,6.572072072072072,1.0,1697.0,3.8220720720720722,32.93,-117.13,1.955', shape=(), dtype=string)\n",
            "tf.Tensor(b'4.8686,4.0,6.293711656441718,1.052914110429448,3887.0,2.980828220858896,33.85,-117.55,1.953', shape=(), dtype=string)\n",
            "tf.Tensor(b'2.5268,19.0,4.48488241881299,1.0884658454647256,1896.0,2.1231802911534157,37.94,-122.06,2.357', shape=(), dtype=string)\n",
            "tf.Tensor(b'1.7292,38.0,4.135135135135135,0.990990990990991,743.0,3.3468468468468466,35.37,-118.99,0.581', shape=(), dtype=string)\n",
            "tf.Tensor(b'4.8164,32.0,7.04833836858006,1.1752265861027191,969.0,2.9274924471299095,34.25,-118.5,2.411', shape=(), dtype=string)\n",
            "tf.Tensor(b'3.0909,30.0,5.503171247357294,1.0718816067653276,1491.0,3.1522198731501057,37.18,-121.06,1.234', shape=(), dtype=string)\n",
            "tf.Tensor(b'3.1062,11.0,5.140302613480055,1.0412654745529573,2212.0,3.0426409903713894,33.23,-117.34,1.41', shape=(), dtype=string)\n",
            "tf.Tensor(b'8.0957,36.0,6.976666666666667,1.01,802.0,2.6733333333333333,33.78,-118.42,5.00001', shape=(), dtype=string)\n",
            "tf.Tensor(b'4.1827,30.0,4.694797687861271,1.0716763005780348,1487.0,1.7190751445086705,34.03,-118.49,4.351', shape=(), dtype=string)\n",
            "tf.Tensor(b'4.1875,16.0,4.22457627118644,1.0360169491525424,1173.0,2.485169491525424,37.4,-122.11,2.664', shape=(), dtype=string)\n",
            "tf.Tensor(b'2.7188,20.0,5.443946188340807,1.1076233183856503,504.0,2.2600896860986546,38.93,-122.89,1.057', shape=(), dtype=string)\n",
            "tf.Tensor(b'3.4426,22.0,5.794594594594595,1.0162162162162163,1200.0,3.2432432432432434,39.15,-121.66,1.024', shape=(), dtype=string)\n",
            "tf.Tensor(b'1.9805,49.0,3.888675623800384,1.051823416506718,963.0,1.8483685220729367,37.87,-122.28,1.737', shape=(), dtype=string)\n",
            "tf.Tensor(b'3.375,16.0,4.576961271102284,1.211519364448858,2147.0,2.1320754716981134,34.23,-119.18,2.188', shape=(), dtype=string)\n",
            "tf.Tensor(b'5.5194,18.0,7.543175487465181,1.064066852367688,988.0,2.752089136490251,34.62,-120.09,3.67', shape=(), dtype=string)\n",
            "tf.Tensor(b'5.5,34.0,5.84472049689441,1.0351966873706004,1429.0,2.958592132505176,33.87,-118.35,2.796', shape=(), dtype=string)\n",
            "tf.Tensor(b'2.6544,17.0,5.926553672316384,1.0451977401129944,912.0,2.5762711864406778,38.0,-120.4,1.126', shape=(), dtype=string)\n",
            "tf.Tensor(b'2.125,30.0,5.201663201663202,1.0873180873180872,1296.0,2.6943866943866945,40.47,-122.33,0.661', shape=(), dtype=string)\n",
            "tf.Tensor(b'3.1406,32.0,4.4082191780821915,1.0123287671232877,2368.0,3.243835616438356,34.0,-118.15,1.753', shape=(), dtype=string)\n",
            "tf.Tensor(b'2.7266,37.0,4.19893899204244,1.039787798408488,1776.0,4.710875331564987,34.03,-118.2,1.408', shape=(), dtype=string)\n",
            "tf.Tensor(b'4.5833,27.0,5.817258883248731,0.9593908629441624,595.0,3.020304568527919,34.27,-118.79,1.985', shape=(), dtype=string)\n",
            "tf.Tensor(b'2.1094,24.0,2.8434466019417477,1.0121359223300972,3537.0,4.29247572815534,34.06,-118.03,1.352', shape=(), dtype=string)\n",
            "tf.Tensor(b'3.5972,39.0,2.6699029126213594,0.8446601941747572,554.0,5.378640776699029,33.75,-117.86,1.58', shape=(), dtype=string)\n",
            "tf.Tensor(b'5.343,17.0,6.3180327868852455,1.0098360655737706,2585.0,2.8251366120218577,33.7,-117.95,2.319', shape=(), dtype=string)\n",
            "tf.Tensor(b'2.6964,47.0,3.493377483443709,0.9867549668874173,1303.0,4.314569536423841,34.02,-118.16,1.388', shape=(), dtype=string)\n",
            "tf.Tensor(b'3.851,10.0,4.936789449749886,1.035925420645748,6474.0,2.9440654843110505,33.97,-117.71,1.372', shape=(), dtype=string)\n",
            "tf.Tensor(b'3.8203,43.0,5.8957654723127035,1.1172638436482085,988.0,3.218241042345277,34.2,-118.16,1.76', shape=(), dtype=string)\n",
            "tf.Tensor(b'1.9722,35.0,3.0,0.9887640449438202,1586.0,3.5640449438202246,34.07,-118.23,1.563', shape=(), dtype=string)\n",
            "tf.Tensor(b'4.3125,17.0,6.706131078224101,1.069767441860465,1538.0,3.251585623678647,34.86,-120.43,1.681', shape=(), dtype=string)\n",
            "tf.Tensor(b'2.1442,35.0,3.4133858267716537,0.9704724409448819,2053.0,4.041338582677166,34.02,-118.16,1.492', shape=(), dtype=string)\n",
            "tf.Tensor(b'1.7467,41.0,4.60062893081761,1.0660377358490567,1066.0,3.352201257861635,35.37,-118.96,0.524', shape=(), dtype=string)\n",
            "tf.Tensor(b'5.7192,14.0,5.678062678062678,0.9615384615384616,2065.0,2.9415954415954415,32.68,-117.02,2.674', shape=(), dtype=string)\n",
            "tf.Tensor(b'4.0625,48.0,5.375,0.9460227272727273,804.0,2.284090909090909,38.13,-121.28,1.432', shape=(), dtype=string)\n",
            "tf.Tensor(b'2.8351,45.0,4.780392156862745,0.9058823529411765,1415.0,2.7745098039215685,38.67,-121.77,1.072', shape=(), dtype=string)\n",
            "tf.Tensor(b'2.7546,40.0,3.4215938303341904,0.961439588688946,1276.0,3.2802056555269923,37.32,-121.88,1.725', shape=(), dtype=string)\n",
            "tf.Tensor(b'4.0625,11.0,5.714285714285714,0.9933035714285714,952.0,2.125,33.15,-117.29,0.875', shape=(), dtype=string)\n",
            "tf.Tensor(b'1.9233,41.0,3.4140127388535033,1.0541401273885351,1111.0,3.538216560509554,34.07,-118.28,2.071', shape=(), dtype=string)\n",
            "tf.Tensor(b'3.7031,42.0,5.010025062656641,1.0802005012531328,1060.0,2.656641604010025,33.86,-118.19,1.671', shape=(), dtype=string)\n",
            "tf.Tensor(b'2.9028,11.0,4.013207547169811,1.0962264150943397,1989.0,3.7528301886792454,34.22,-118.37,1.741', shape=(), dtype=string)\n",
            "tf.Tensor(b'7.2137,17.0,8.240663900414937,1.033195020746888,761.0,3.1576763485477177,34.26,-118.79,4.019', shape=(), dtype=string)\n",
            "tf.Tensor(b'3.4151,52.0,5.1703511053316,0.9336801040312094,1750.0,2.2756827048114436,32.73,-117.12,1.754', shape=(), dtype=string)\n",
            "tf.Tensor(b'6.8162,15.0,7.383620689655173,1.0603448275862069,766.0,3.3017241379310347,36.72,-119.72,1.272', shape=(), dtype=string)\n",
            "tf.Tensor(b'4.1083,35.0,5.97265625,1.3203125,688.0,2.6875,34.28,-117.53,1.08', shape=(), dtype=string)\n",
            "tf.Tensor(b'4.5062,20.0,4.336134453781512,0.9621848739495799,658.0,2.764705882352941,37.39,-121.96,2.193', shape=(), dtype=string)\n",
            "tf.Tensor(b'1.6148,16.0,4.365661861074705,1.0996068152031455,1955.0,2.562254259501966,36.32,-119.33,0.866', shape=(), dtype=string)\n",
            "tf.Tensor(b'4.5116,43.0,4.711590296495957,0.9865229110512129,984.0,2.652291105121294,37.53,-122.3,3.378', shape=(), dtype=string)\n",
            "tf.Tensor(b'2.2031,22.0,3.8241469816272966,1.0078740157480315,2962.0,3.8871391076115485,37.35,-121.84,1.64', shape=(), dtype=string)\n",
            "tf.Tensor(b'3.8958,33.0,5.419354838709677,0.9723502304147466,529.0,2.4377880184331797,39.13,-123.23,1.44', shape=(), dtype=string)\n",
            "tf.Tensor(b'4.6591,27.0,6.4964200477326965,1.1169451073985681,1164.0,2.7780429594272076,34.26,-118.49,2.399', shape=(), dtype=string)\n",
            "tf.Tensor(b'1.9797,22.0,2.8020050125313283,1.0952380952380953,1190.0,2.982456140350877,33.77,-118.2,1.438', shape=(), dtype=string)\n",
            "tf.Tensor(b'6.556,14.0,5.925714285714286,0.9485714285714286,1178.0,2.243809523809524,37.99,-121.34,2.347', shape=(), dtype=string)\n",
            "tf.Tensor(b'1.6875,22.0,4.307332293291732,1.1809672386895476,2612.0,4.074882995319813,38.24,-122.04,0.875', shape=(), dtype=string)\n",
            "tf.Tensor(b'1.0658,46.0,3.076923076923077,1.1846153846153846,180.0,2.769230769230769,32.69,-117.12,0.938', shape=(), dtype=string)\n",
            "tf.Tensor(b'1.9375,40.0,4.287846481876333,1.0554371002132197,1528.0,3.257995735607676,34.08,-117.31,0.699', shape=(), dtype=string)\n",
            "tf.Tensor(b'3.125,26.0,4.096774193548387,0.9496774193548387,2460.0,3.174193548387097,34.22,-119.19,2.199', shape=(), dtype=string)\n",
            "tf.Tensor(b'6.3542,8.0,6.199324324324325,0.9054054054054054,1723.0,2.910472972972973,32.95,-117.12,2.181', shape=(), dtype=string)\n",
            "tf.Tensor(b'2.3205,29.0,4.636513157894737,1.0476973684210527,1683.0,2.768092105263158,34.1,-117.36,0.876', shape=(), dtype=string)\n",
            "tf.Tensor(b'2.8906,43.0,5.545454545454546,1.2424242424242424,534.0,2.311688311688312,36.13,-118.82,0.657', shape=(), dtype=string)\n",
            "tf.Tensor(b'3.9575,24.0,5.065921787709497,1.0804469273743016,2547.0,2.845810055865922,33.93,-118.0,2.154', shape=(), dtype=string)\n",
            "tf.Tensor(b'3.4596,28.0,5.165378670788254,1.063369397217929,2210.0,3.4157650695517776,34.06,-117.93,2.028', shape=(), dtype=string)\n",
            "tf.Tensor(b'2.3125,48.0,5.025714285714286,1.1114285714285714,716.0,2.045714285714286,39.2,-121.05,1.083', shape=(), dtype=string)\n",
            "tf.Tensor(b'1.9867,33.0,4.2155172413793105,1.0301724137931034,1472.0,3.1724137931034484,34.01,-118.12,1.663', shape=(), dtype=string)\n",
            "tf.Tensor(b'6.4744,23.0,8.11328125,1.1953125,705.0,2.75390625,34.45,-119.78,5.00001', shape=(), dtype=string)\n",
            "tf.Tensor(b'6.6579,9.0,5.659528907922912,0.9400428265524625,1105.0,2.366167023554604,37.97,-122.08,2.452', shape=(), dtype=string)\n",
            "tf.Tensor(b'3.3462,14.0,18.348754448398576,3.131672597864769,616.0,2.192170818505338,40.25,-121.15,1.452', shape=(), dtype=string)\n",
            "tf.Tensor(b'1.6991,17.0,6.3740648379052365,1.4638403990024937,1005.0,2.506234413965087,34.89,-114.65,0.691', shape=(), dtype=string)\n",
            "tf.Tensor(b'1.4732,28.0,4.96078431372549,0.9803921568627451,201.0,3.9411764705882355,38.03,-121.16,1.563', shape=(), dtype=string)\n",
            "tf.Tensor(b'12.632,5.0,7.462962962962963,0.8888888888888888,208.0,3.8518518518518516,34.44,-119.31,5.00001', shape=(), dtype=string)\n",
            "tf.Tensor(b'2.875,17.0,4.417040358744394,1.0448430493273542,811.0,3.6367713004484306,32.56,-117.05,1.345', shape=(), dtype=string)\n",
            "tf.Tensor(b'0.8804,36.0,2.713235294117647,1.0808823529411764,145.0,1.0661764705882353,34.06,-118.31,4.5', shape=(), dtype=string)\n",
            "tf.Tensor(b'6.8654,17.0,8.433823529411764,1.0294117647058822,327.0,2.4044117647058822,37.66,-120.94,2.905', shape=(), dtype=string)\n",
            "tf.Tensor(b'0.7445,19.0,3.5675675675675675,1.045045045045045,641.0,2.8873873873873874,36.33,-119.29,1.125', shape=(), dtype=string)\n",
            "tf.Tensor(b'2.2402,25.0,5.0051085568326945,0.9757343550446999,2203.0,2.813537675606641,38.7,-121.38,0.895', shape=(), dtype=string)\n",
            "tf.Tensor(b'3.2674,28.0,4.8782791185729275,1.0251836306400839,2606.0,2.734522560335782,37.92,-122.32,1.291', shape=(), dtype=string)\n",
            "tf.Tensor(b'1.8843,16.0,4.414746543778802,1.0399385560675882,3078.0,4.728110599078341,35.68,-119.22,0.552', shape=(), dtype=string)\n",
            "tf.Tensor(b'3.1887,16.0,3.79831045406547,1.0432946145723336,3687.0,1.946673706441394,34.18,-118.53,1.893', shape=(), dtype=string)\n",
            "tf.Tensor(b'3.5978,27.0,6.013333333333334,1.07,782.0,2.6066666666666665,40.45,-122.24,0.806', shape=(), dtype=string)\n",
            "tf.Tensor(b'15.0001,52.0,7.958333333333333,0.8333333333333334,457.0,3.808333333333333,34.06,-118.32,5.00001', shape=(), dtype=string)\n",
            "tf.Tensor(b'3.6639,25.0,5.126482213438735,1.1172595520421607,1848.0,2.4347826086956523,34.12,-118.06,2.481', shape=(), dtype=string)\n",
            "tf.Tensor(b'3.7585,19.0,5.112877583465819,1.0588235294117647,1363.0,2.166931637519873,33.96,-117.32,1.445', shape=(), dtype=string)\n",
            "tf.Tensor(b'4.4231,16.0,6.098360655737705,1.1557377049180328,311.0,2.5491803278688523,37.88,-120.41,0.875', shape=(), dtype=string)\n",
            "tf.Tensor(b'7.6473,17.0,7.891764705882353,0.9929411764705882,1457.0,3.428235294117647,37.8,-121.98,3.458', shape=(), dtype=string)\n",
            "tf.Tensor(b'2.2304,42.0,4.664670658682635,0.9640718562874252,884.0,2.6467065868263475,34.2,-118.5,2.038', shape=(), dtype=string)\n",
            "tf.Tensor(b'4.0473,36.0,5.223367697594502,1.0309278350515463,831.0,2.8556701030927836,33.9,-118.32,2.121', shape=(), dtype=string)\n",
            "tf.Tensor(b'2.4706,22.0,5.232273838630807,1.0880195599022005,1441.0,3.5232273838630808,37.49,-120.86,0.894', shape=(), dtype=string)\n",
            "tf.Tensor(b'6.4599,15.0,7.8125,1.0220588235294117,857.0,3.150735294117647,38.07,-122.17,2.197', shape=(), dtype=string)\n",
            "tf.Tensor(b'2.875,37.0,4.976119402985074,1.0805970149253732,971.0,2.8985074626865672,35.37,-118.94,0.574', shape=(), dtype=string)\n",
            "tf.Tensor(b'1.3,36.0,4.245762711864407,1.0423728813559323,487.0,4.127118644067797,33.93,-118.23,0.87', shape=(), dtype=string)\n",
            "tf.Tensor(b'1.1875,29.0,4.244755244755245,1.2377622377622377,476.0,3.3286713286713288,35.39,-118.98,0.507', shape=(), dtype=string)\n",
            "tf.Tensor(b'4.9904,5.0,7.843010752688172,1.2247311827956988,3123.0,3.358064516129032,34.6,-118.16,1.541', shape=(), dtype=string)\n",
            "tf.Tensor(b'1.8281,29.0,3.963740458015267,1.1011450381679388,1418.0,2.7061068702290076,34.13,-117.28,0.768', shape=(), dtype=string)\n",
            "tf.Tensor(b'3.7813,36.0,4.9035087719298245,0.9605263157894737,625.0,2.741228070175439,37.69,-122.16,1.922', shape=(), dtype=string)\n",
            "tf.Tensor(b'3.5586,33.0,5.580882352941177,0.9852941176470589,857.0,3.150735294117647,32.8,-116.92,1.604', shape=(), dtype=string)\n",
            "tf.Tensor(b'2.309,18.0,5.456422018348624,1.0275229357798166,1638.0,3.756880733944954,36.6,-119.55,0.571', shape=(), dtype=string)\n",
            "tf.Tensor(b'3.069,20.0,5.2378318584070795,1.0763274336283186,2306.0,2.5508849557522124,33.73,-116.96,0.87', shape=(), dtype=string)\n",
            "tf.Tensor(b'4.0529,33.0,4.028497409326425,0.9352331606217616,1571.0,4.069948186528498,34.12,-117.9,1.382', shape=(), dtype=string)\n",
            "tf.Tensor(b'3.175,20.0,4.774590163934426,1.1024590163934427,459.0,1.8811475409836065,32.74,-117.18,1.917', shape=(), dtype=string)\n",
            "tf.Tensor(b'10.4277,26.0,8.508928571428571,1.0208333333333333,951.0,2.830357142857143,37.38,-122.14,5.00001', shape=(), dtype=string)\n",
            "tf.Tensor(b'4.0208,52.0,5.169683257918552,0.9841628959276018,1211.0,2.739819004524887,37.74,-122.48,3.231', shape=(), dtype=string)\n",
            "tf.Tensor(b'2.8797,33.0,3.5779220779220777,1.0541125541125542,2475.0,2.6785714285714284,34.01,-118.41,2.853', shape=(), dtype=string)\n",
            "tf.Tensor(b'2.3598,23.0,5.461928934010152,1.0964467005076142,724.0,3.6751269035532994,39.08,-121.54,0.575', shape=(), dtype=string)\n",
            "tf.Tensor(b'3.6611,29.0,4.44543429844098,1.089086859688196,960.0,2.138084632516704,34.01,-118.42,3.442', shape=(), dtype=string)\n",
            "tf.Tensor(b'6.3568,18.0,6.582018927444795,0.9858044164037855,1649.0,2.6009463722397475,33.49,-117.68,2.943', shape=(), dtype=string)\n",
            "tf.Tensor(b'2.9437,27.0,4.920471281296024,1.0721649484536082,1762.0,2.5949926362297497,34.1,-117.89,1.804', shape=(), dtype=string)\n",
            "tf.Tensor(b'3.4,38.0,4.877675840978593,0.9602446483180428,1181.0,3.611620795107034,34.3,-118.44,1.555', shape=(), dtype=string)\n",
            "tf.Tensor(b'4.2386,34.0,6.072,1.066,1366.0,2.732,37.67,-122.14,1.923', shape=(), dtype=string)\n",
            "tf.Tensor(b'1.3125,37.0,3.25,0.967391304347826,318.0,3.4565217391304346,34.1,-118.17,1.458', shape=(), dtype=string)\n",
            "tf.Tensor(b'2.2661,16.0,5.783050847457627,1.1305084745762712,1873.0,3.1745762711864405,40.37,-120.58,0.618', shape=(), dtype=string)\n",
            "tf.Tensor(b'2.8039,21.0,3.9849183074989525,1.0724759111855886,7282.0,3.0506912442396312,34.21,-118.6,2.275', shape=(), dtype=string)\n",
            "tf.Tensor(b'1.925,41.0,4.012422360248447,1.0372670807453417,1150.0,3.5714285714285716,34.03,-118.2,1.352', shape=(), dtype=string)\n",
            "tf.Tensor(b'4.025,24.0,5.976086956521739,1.0826086956521739,1367.0,2.9717391304347824,33.81,-117.95,2.407', shape=(), dtype=string)\n",
            "tf.Tensor(b'4.3036,35.0,5.699059561128527,1.0626959247648904,828.0,2.595611285266458,33.88,-118.32,2.821', shape=(), dtype=string)\n",
            "tf.Tensor(b'5.7881,28.0,6.068292682926829,0.9658536585365853,1190.0,2.902439024390244,37.34,-122.02,3.447', shape=(), dtype=string)\n",
            "tf.Tensor(b'3.775,23.0,4.239583333333333,1.125,647.0,6.739583333333333,33.73,-117.86,1.774', shape=(), dtype=string)\n",
            "tf.Tensor(b'2.8542,37.0,3.996192893401015,1.0571065989847717,3456.0,4.385786802030457,36.68,-121.61,1.276', shape=(), dtype=string)\n",
            "tf.Tensor(b'2.7466,43.0,3.6666666666666665,1.0478547854785478,1817.0,2.9983498349834985,34.11,-118.25,2.089', shape=(), dtype=string)\n",
            "tf.Tensor(b'3.1932,17.0,3.7431781701444624,1.0224719101123596,1636.0,2.626003210272873,37.25,-121.83,1.234', shape=(), dtype=string)\n",
            "tf.Tensor(b'3.7344,47.0,6.219101123595506,1.1179775280898876,437.0,2.455056179775281,33.99,-118.34,1.794', shape=(), dtype=string)\n",
            "tf.Tensor(b'2.7188,26.0,6.828,1.232,761.0,3.044,41.07,-121.11,0.481', shape=(), dtype=string)\n",
            "tf.Tensor(b'4.6127,30.0,5.715919923736892,0.9704480457578646,2532.0,2.4137273593898954,38.63,-121.37,1.518', shape=(), dtype=string)\n",
            "tf.Tensor(b'4.275,36.0,5.576923076923077,0.9615384615384616,768.0,3.282051282051282,37.66,-122.1,1.853', shape=(), dtype=string)\n",
            "tf.Tensor(b'3.1827,21.0,6.241935483870968,1.5161290322580645,724.0,3.89247311827957,33.88,-115.58,0.717', shape=(), dtype=string)\n",
            "tf.Tensor(b'2.1776,46.0,3.97737556561086,1.1447963800904977,1010.0,4.570135746606335,34.01,-118.26,1.183', shape=(), dtype=string)\n",
            "tf.Tensor(b'5.0866,32.0,6.1954261954261955,1.027027027027027,1370.0,2.8482328482328483,33.76,-118.03,2.235', shape=(), dtype=string)\n",
            "tf.Tensor(b'3.2895,26.0,4.069135802469136,0.9333333333333333,954.0,2.3555555555555556,34.41,-119.72,3.35', shape=(), dtype=string)\n",
            "tf.Tensor(b'2.4605,20.0,5.200389105058366,1.046692607003891,1282.0,2.4941634241245136,41.76,-124.17,1.059', shape=(), dtype=string)\n",
            "tf.Tensor(b'3.1875,26.0,3.9218390804597703,1.186206896551724,894.0,2.0551724137931036,34.03,-118.43,3.727', shape=(), dtype=string)\n",
            "tf.Tensor(b'3.6898,15.0,5.98292220113852,1.191650853889943,1633.0,3.098671726755218,32.86,-116.91,1.31', shape=(), dtype=string)\n",
            "tf.Tensor(b'2.8438,44.0,3.745,1.075,848.0,2.12,37.39,-122.08,3.071', shape=(), dtype=string)\n",
            "tf.Tensor(b'2.8056,32.0,3.512019230769231,1.0144230769230769,1494.0,3.5913461538461537,36.91,-121.75,1.732', shape=(), dtype=string)\n",
            "tf.Tensor(b'3.4299,28.0,5.030120481927711,0.9590361445783132,2032.0,2.4481927710843374,38.62,-121.35,1.64', shape=(), dtype=string)\n",
            "tf.Tensor(b'1.7589,28.0,3.5028735632183907,1.1724137931034482,1816.0,5.218390804597701,33.79,-118.17,1.183', shape=(), dtype=string)\n",
            "tf.Tensor(b'1.7788,14.0,3.899810964083176,1.056710775047259,934.0,1.7655954631379962,39.76,-121.62,0.858', shape=(), dtype=string)\n",
            "tf.Tensor(b'6.2308,2.0,8.801007556675064,1.3738035264483628,5964.0,3.0045340050377836,33.87,-117.64,2.579', shape=(), dtype=string)\n",
            "tf.Tensor(b'3.9231,34.0,5.209718670076726,0.9846547314578005,1195.0,3.0562659846547313,34.15,-117.31,0.96', shape=(), dtype=string)\n",
            "tf.Tensor(b'1.9311,17.0,4.231437598736177,1.052132701421801,3030.0,2.3933649289099526,33.82,-118.22,1.381', shape=(), dtype=string)\n",
            "tf.Tensor(b'5.6271,44.0,6.262780269058296,1.0143497757847533,2818.0,2.527354260089686,37.5,-122.26,3.748', shape=(), dtype=string)\n",
            "tf.Tensor(b'3.5,9.0,5.050153531218014,1.1381780962128967,3198.0,3.2732855680655066,36.92,-121.77,1.948', shape=(), dtype=string)\n",
            "tf.Tensor(b'4.2614,36.0,5.506203473945409,1.0074441687344913,1219.0,3.0248138957816377,33.87,-118.33,2.671', shape=(), dtype=string)\n",
            "tf.Tensor(b'4.125,36.0,6.26984126984127,1.1224489795918366,1478.0,3.3514739229024944,37.99,-122.04,1.362', shape=(), dtype=string)\n",
            "tf.Tensor(b'1.6295,33.0,4.27208480565371,1.204946996466431,1097.0,3.8763250883392226,34.27,-118.42,1.343', shape=(), dtype=string)\n",
            "tf.Tensor(b'3.7171,39.0,4.7631578947368425,1.0210526315789474,839.0,2.207894736842105,34.18,-118.45,2.288', shape=(), dtype=string)\n",
            "tf.Tensor(b'5.102,8.0,5.681818181818182,0.9896694214876033,1526.0,3.152892561983471,38.02,-121.92,1.565', shape=(), dtype=string)\n",
            "tf.Tensor(b'3.7312,31.0,4.635021097046414,1.0569620253164558,944.0,1.9915611814345993,34.16,-118.38,3.194', shape=(), dtype=string)\n",
            "tf.Tensor(b'3.3438,37.0,4.6300366300366305,1.0036630036630036,783.0,2.868131868131868,33.75,-117.98,1.996', shape=(), dtype=string)\n",
            "tf.Tensor(b'2.4196,46.0,3.881904761904762,1.0171428571428571,1250.0,2.380952380952381,34.08,-118.32,3.581', shape=(), dtype=string)\n",
            "tf.Tensor(b'2.5759,43.0,3.814814814814815,1.0679012345679013,1151.0,2.3683127572016462,33.73,-118.29,2.25', shape=(), dtype=string)\n",
            "tf.Tensor(b'2.3098,52.0,2.7037037037037037,1.093681917211329,679.0,1.4793028322440087,34.0,-118.51,5.00001', shape=(), dtype=string)\n",
            "tf.Tensor(b'1.5328,36.0,2.5707865168539326,1.1606741573033708,3030.0,3.404494382022472,34.1,-118.31,2.5', shape=(), dtype=string)\n",
            "tf.Tensor(b'3.9875,24.0,6.076517150395778,1.0527704485488127,851.0,2.2453825857519787,33.43,-117.61,3.465', shape=(), dtype=string)\n",
            "tf.Tensor(b'3.125,44.0,4.11328125,0.98046875,941.0,3.67578125,34.08,-118.15,2.056', shape=(), dtype=string)\n",
            "tf.Tensor(b'1.9531,41.0,3.826530612244898,1.1020408163265305,323.0,3.295918367346939,37.94,-121.31,0.45', shape=(), dtype=string)\n",
            "tf.Tensor(b'6.0,26.0,5.442666666666667,0.7813333333333333,936.0,2.496,34.15,-117.24,1.402', shape=(), dtype=string)\n",
            "tf.Tensor(b'2.7,5.0,8.857142857142858,2.0476190476190474,41.0,1.9523809523809523,33.38,-115.94,0.588', shape=(), dtype=string)\n",
            "tf.Tensor(b'3.9861,34.0,5.121495327102804,1.0070093457943925,1376.0,3.2149532710280373,34.09,-117.93,1.639', shape=(), dtype=string)\n",
            "tf.Tensor(b'4.2857,16.0,5.273010920436818,1.140405616224649,1227.0,1.9141965678627144,34.15,-118.83,2.332', shape=(), dtype=string)\n",
            "tf.Tensor(b'2.7986,14.0,4.586837294332724,1.117001828153565,1814.0,3.316270566727605,33.75,-117.96,1.761', shape=(), dtype=string)\n",
            "tf.Tensor(b'3.5391,27.0,5.835260115606936,1.023121387283237,1029.0,2.9739884393063583,34.9,-120.43,1.447', shape=(), dtype=string)\n",
            "tf.Tensor(b'2.2882,17.0,4.326388888888889,1.0416666666666667,424.0,1.4722222222222223,33.21,-117.33,0.858', shape=(), dtype=string)\n",
            "tf.Tensor(b'1.4828,21.0,3.697132616487455,1.0913978494623655,1686.0,3.021505376344086,32.75,-117.1,0.948', shape=(), dtype=string)\n",
            "tf.Tensor(b'15.0001,46.0,9.203947368421053,0.9736842105263158,410.0,2.6973684210526314,34.08,-118.42,5.00001', shape=(), dtype=string)\n",
            "tf.Tensor(b'3.175,26.0,4.670588235294118,1.0705882352941176,709.0,4.170588235294118,34.07,-118.09,1.708', shape=(), dtype=string)\n",
            "tf.Tensor(b'1.3906,38.0,5.403846153846154,1.0576923076923077,151.0,2.9038461538461537,34.06,-117.12,1.208', shape=(), dtype=string)\n",
            "tf.Tensor(b'4.9191,36.0,5.874617737003058,1.0061162079510704,969.0,2.963302752293578,33.94,-118.01,1.887', shape=(), dtype=string)\n",
            "tf.Tensor(b'10.2811,34.0,8.127371273712738,0.989159891598916,927.0,2.5121951219512195,37.45,-122.25,5.00001', shape=(), dtype=string)\n",
            "tf.Tensor(b'5.2328,49.0,5.660287081339713,0.9808612440191388,496.0,2.373205741626794,37.78,-122.19,1.742', shape=(), dtype=string)\n",
            "tf.Tensor(b'8.1657,32.0,7.2166584035696575,1.029747149231532,5459.0,2.7064947942488846,34.18,-118.26,5.00001', shape=(), dtype=string)\n",
            "tf.Tensor(b'6.1004,35.0,5.8687258687258685,1.0038610038610039,1374.0,2.6525096525096523,37.51,-122.29,4.264', shape=(), dtype=string)\n",
            "tf.Tensor(b'2.4545,36.0,4.045662100456621,1.1552511415525115,809.0,3.6940639269406392,33.77,-118.26,1.642', shape=(), dtype=string)\n",
            "tf.Tensor(b'4.425,35.0,5.563176895306859,1.0722021660649819,791.0,2.8555956678700363,37.08,-122.08,2.048', shape=(), dtype=string)\n",
            "tf.Tensor(b'13.3036,50.0,7.660766961651918,1.0029498525073746,964.0,2.8436578171091447,34.04,-118.49,5.00001', shape=(), dtype=string)\n",
            "tf.Tensor(b'2.7827,9.0,4.764444444444444,1.13,3156.0,3.506666666666667,34.1,-117.45,1.058', shape=(), dtype=string)\n",
            "tf.Tensor(b'4.8125,18.0,5.992405063291139,1.0177215189873419,1021.0,2.5848101265822785,32.81,-116.83,2.105', shape=(), dtype=string)\n",
            "tf.Tensor(b'1.8061,5.0,3.0027624309392267,0.9337016574585635,623.0,1.7209944751381216,36.83,-119.71,1.134', shape=(), dtype=string)\n",
            "tf.Tensor(b'5.5456,50.0,5.678571428571429,1.0993788819875776,1725.0,2.6785714285714284,34.14,-118.22,2.581', shape=(), dtype=string)\n",
            "tf.Tensor(b'2.6307,36.0,4.803571428571429,1.2633928571428572,773.0,3.450892857142857,34.13,-117.31,0.664', shape=(), dtype=string)\n",
            "tf.Tensor(b'2.7232,12.0,7.289308176100629,1.3144654088050314,523.0,3.289308176100629,33.84,-117.26,1.232', shape=(), dtype=string)\n",
            "tf.Tensor(b'3.209,14.0,7.239942528735632,1.9727011494252873,1298.0,1.8649425287356323,33.14,-117.38,3.133', shape=(), dtype=string)\n",
            "tf.Tensor(b'2.7308,38.0,4.080188679245283,1.0849056603773586,1724.0,4.066037735849057,33.79,-118.25,1.504', shape=(), dtype=string)\n",
            "tf.Tensor(b'2.3333,37.0,4.6,1.1555555555555554,443.0,3.2814814814814817,33.87,-117.57,1.228', shape=(), dtype=string)\n",
            "tf.Tensor(b'5.3247,13.0,7.292307692307692,1.5128205128205128,395.0,2.0256410256410255,37.54,-122.26,3.278', shape=(), dtype=string)\n",
            "tf.Tensor(b'7.2316,31.0,4.314199395770393,0.9667673716012085,677.0,2.0453172205438066,33.89,-118.41,5.00001', shape=(), dtype=string)\n",
            "tf.Tensor(b'1.2171,52.0,4.5625,1.1217105263157894,1074.0,3.5328947368421053,37.82,-122.28,0.803', shape=(), dtype=string)\n",
            "tf.Tensor(b'3.8625,41.0,4.658018867924528,1.0377358490566038,1528.0,3.6037735849056602,37.72,-122.4,2.183', shape=(), dtype=string)\n",
            "tf.Tensor(b'3.8333,15.0,9.053571428571429,1.75,918.0,2.732142857142857,38.89,-120.03,1.188', shape=(), dtype=string)\n",
            "tf.Tensor(b'10.3599,31.0,8.403967538322814,1.030658250676285,2980.0,2.6871055004508566,34.14,-118.48,5.00001', shape=(), dtype=string)\n",
            "tf.Tensor(b'4.8382,52.0,5.2639593908629445,0.9289340101522843,909.0,2.3071065989847717,37.74,-122.44,2.949', shape=(), dtype=string)\n",
            "tf.Tensor(b'1.5208,19.0,4.517799352750809,1.087378640776699,940.0,3.042071197411003,39.15,-121.6,0.703', shape=(), dtype=string)\n",
            "tf.Tensor(b'2.125,26.0,37.06349206349206,7.185185185185185,416.0,2.201058201058201,38.19,-120.03,1.325', shape=(), dtype=string)\n",
            "tf.Tensor(b'3.9702,27.0,4.823886639676114,0.9554655870445344,2079.0,4.208502024291498,34.01,-117.9,1.414', shape=(), dtype=string)\n",
            "tf.Tensor(b'1.2434,52.0,4.3619047619047615,1.05,1186.0,2.823809523809524,34.02,-118.31,0.984', shape=(), dtype=string)\n",
            "tf.Tensor(b'1.6776,32.0,3.8217391304347825,1.117391304347826,1057.0,4.595652173913043,33.97,-118.25,1.148', shape=(), dtype=string)\n",
            "tf.Tensor(b'6.9408,52.0,5.3125,1.0125,493.0,3.08125,34.16,-118.24,2.988', shape=(), dtype=string)\n",
            "tf.Tensor(b'5.7652,13.0,6.497017892644135,0.9761431411530815,1431.0,2.84493041749503,32.72,-116.87,2.599', shape=(), dtype=string)\n",
            "tf.Tensor(b'1.7656,26.0,4.149367088607595,0.8911392405063291,1222.0,3.0936708860759494,35.23,-118.85,0.68', shape=(), dtype=string)\n",
            "tf.Tensor(b'3.6736,2.0,5.7227722772277225,1.1707920792079207,2091.0,2.587871287128713,33.16,-117.23,2.145', shape=(), dtype=string)\n",
            "tf.Tensor(b'5.6611,42.0,5.932515337423313,1.0736196319018405,481.0,2.950920245398773,33.75,-118.3,2.656', shape=(), dtype=string)\n",
            "tf.Tensor(b'1.695,39.0,2.4695121951219514,0.9939024390243902,686.0,4.182926829268292,33.96,-118.23,0.948', shape=(), dtype=string)\n",
            "tf.Tensor(b'4.0,36.0,5.6298076923076925,1.0480769230769231,1191.0,2.862980769230769,37.97,-122.02,1.71', shape=(), dtype=string)\n",
            "tf.Tensor(b'1.7325,36.0,2.6145339652448656,1.0900473933649288,1957.0,3.0916271721958926,34.1,-118.32,2.219', shape=(), dtype=string)\n",
            "tf.Tensor(b'1.1667,37.0,4.022792022792022,0.9772079772079773,1127.0,3.2108262108262107,34.12,-117.31,0.709', shape=(), dtype=string)\n"
          ],
          "name": "stdout"
        }
      ]
    },
    {
      "cell_type": "code",
      "metadata": {
        "id": "2EkartBp6iQW"
      },
      "source": [
        "# https://www.tensorflow.org/api_docs/python/tf/data/TextLineDataset\n",
        "n_readers = 5\n",
        "dataset = filepath_dataset.interleave(\n",
        "    lambda filepath: tf.data.TextLineDataset(filepath).skip(1),\n",
        "    cycle_length=n_readers)"
      ],
      "execution_count": 53,
      "outputs": []
    },
    {
      "cell_type": "code",
      "metadata": {
        "id": "q0ipsMbm-tGG",
        "outputId": "65f09e13-e892-4143-fa28-bbf7a7a6ae0f",
        "colab": {
          "base_uri": "https://localhost:8080/",
          "height": 106
        }
      },
      "source": [
        "for line in dataset.take(5):\n",
        "    print(line.numpy())"
      ],
      "execution_count": 54,
      "outputs": [
        {
          "output_type": "stream",
          "text": [
            "b'4.6477,38.0,5.03728813559322,0.911864406779661,745.0,2.5254237288135593,32.64,-117.07,1.504'\n",
            "b'8.72,44.0,6.163179916317992,1.0460251046025104,668.0,2.794979079497908,34.2,-118.18,4.159'\n",
            "b'3.8456,35.0,5.461346633416459,0.9576059850374065,1154.0,2.8778054862842892,37.96,-122.05,1.598'\n",
            "b'3.3456,37.0,4.514084507042254,0.9084507042253521,458.0,3.2253521126760565,36.67,-121.7,2.526'\n",
            "b'3.6875,44.0,4.524475524475524,0.993006993006993,457.0,3.195804195804196,34.04,-118.15,1.625'\n"
          ],
          "name": "stdout"
        }
      ]
    },
    {
      "cell_type": "code",
      "metadata": {
        "id": "z9R_GZre-vXn",
        "outputId": "22aae365-b5d8-48d9-8340-b2042ad24c42",
        "colab": {
          "base_uri": "https://localhost:8080/",
          "height": 106
        }
      },
      "source": [
        "# for understanding only\n",
        "record_defaults=[0, np.nan, tf.constant(np.nan, dtype=tf.float64), \"Hello\", tf.constant([])]\n",
        "parsed_fields = tf.io.decode_csv('1,2,3,4,5', record_defaults)\n",
        "parsed_fields"
      ],
      "execution_count": 55,
      "outputs": [
        {
          "output_type": "execute_result",
          "data": {
            "text/plain": [
              "[<tf.Tensor: shape=(), dtype=int32, numpy=1>,\n",
              " <tf.Tensor: shape=(), dtype=float32, numpy=2.0>,\n",
              " <tf.Tensor: shape=(), dtype=float64, numpy=3.0>,\n",
              " <tf.Tensor: shape=(), dtype=string, numpy=b'4'>,\n",
              " <tf.Tensor: shape=(), dtype=float32, numpy=5.0>]"
            ]
          },
          "metadata": {
            "tags": []
          },
          "execution_count": 55
        }
      ]
    },
    {
      "cell_type": "code",
      "metadata": {
        "id": "K7U6LKBj5aHn",
        "outputId": "cedb5110-a548-4044-863e-1daa7b87dfd1",
        "colab": {
          "base_uri": "https://localhost:8080/",
          "height": 106
        }
      },
      "source": [
        "parsed_fields = tf.io.decode_csv(',,,,5', record_defaults)\n",
        "parsed_fields"
      ],
      "execution_count": 56,
      "outputs": [
        {
          "output_type": "execute_result",
          "data": {
            "text/plain": [
              "[<tf.Tensor: shape=(), dtype=int32, numpy=0>,\n",
              " <tf.Tensor: shape=(), dtype=float32, numpy=nan>,\n",
              " <tf.Tensor: shape=(), dtype=float64, numpy=nan>,\n",
              " <tf.Tensor: shape=(), dtype=string, numpy=b'Hello'>,\n",
              " <tf.Tensor: shape=(), dtype=float32, numpy=5.0>]"
            ]
          },
          "metadata": {
            "tags": []
          },
          "execution_count": 56
        }
      ]
    },
    {
      "cell_type": "code",
      "metadata": {
        "id": "HJpKYp2Y5at9",
        "outputId": "a36f8aae-4142-4cf4-d002-2da5bc4ce090",
        "colab": {
          "base_uri": "https://localhost:8080/",
          "height": 35
        }
      },
      "source": [
        "try:\n",
        "    parsed_fields = tf.io.decode_csv(',,,,', record_defaults)\n",
        "except tf.errors.InvalidArgumentError as ex:\n",
        "    print(ex)"
      ],
      "execution_count": 57,
      "outputs": [
        {
          "output_type": "stream",
          "text": [
            "Field 4 is required but missing in record 0! [Op:DecodeCSV]\n"
          ],
          "name": "stdout"
        }
      ]
    },
    {
      "cell_type": "code",
      "metadata": {
        "id": "r4LX-IY754ke",
        "outputId": "db781899-2c40-4775-d837-4d1dc46d028d",
        "colab": {
          "base_uri": "https://localhost:8080/",
          "height": 35
        }
      },
      "source": [
        "# END of for understanding only\n",
        "try:\n",
        "    parsed_fields = tf.io.decode_csv('1,2,3,4,5,6,7', record_defaults)\n",
        "except tf.errors.InvalidArgumentError as ex:\n",
        "    print(ex)"
      ],
      "execution_count": 58,
      "outputs": [
        {
          "output_type": "stream",
          "text": [
            "Expect 5 fields but have 7 in record 0 [Op:DecodeCSV]\n"
          ],
          "name": "stdout"
        }
      ]
    },
    {
      "cell_type": "code",
      "metadata": {
        "id": "prQOmEpyO544",
        "outputId": "79fb9bc8-106c-4a9d-f420-376529593830",
        "colab": {
          "base_uri": "https://localhost:8080/",
          "height": 35
        }
      },
      "source": [
        "X_train.shape[-1]"
      ],
      "execution_count": 59,
      "outputs": [
        {
          "output_type": "execute_result",
          "data": {
            "text/plain": [
              "8"
            ]
          },
          "metadata": {
            "tags": []
          },
          "execution_count": 59
        }
      ]
    },
    {
      "cell_type": "code",
      "metadata": {
        "id": "lLs9Z19W5-hW"
      },
      "source": [
        "n_inputs = X_train.shape[-1]\n",
        "\n",
        "@tf.function\n",
        "def preprocess(line):\n",
        "    defs = [0.] * n_inputs + [tf.constant([], dtype=tf.float32)]\n",
        "    fields = tf.io.decode_csv(line, record_defaults=defs)\n",
        "    x = tf.stack(fields[:-1]) # from 0 to 7: exclude the 8.\n",
        "    y = tf.stack(fields[-1:]) # get the index 8.\n",
        "    return (x - X_mean) / X_std, y"
      ],
      "execution_count": 60,
      "outputs": []
    },
    {
      "cell_type": "code",
      "metadata": {
        "id": "4EmdXRRu7soK",
        "outputId": "cd3d95b7-bd4a-47d7-d6ce-31a82903ce41",
        "colab": {
          "base_uri": "https://localhost:8080/",
          "height": 88
        }
      },
      "source": [
        "preprocess(b'4.2083,44.0,5.3232,0.9171,846.0,2.3370,37.47,-122.2,2.782')"
      ],
      "execution_count": 61,
      "outputs": [
        {
          "output_type": "execute_result",
          "data": {
            "text/plain": [
              "(<tf.Tensor: shape=(8,), dtype=float32, numpy=\n",
              " array([ 0.16579157,  1.216324  , -0.05204565, -0.39215982, -0.5277444 ,\n",
              "        -0.2633488 ,  0.8543046 , -1.3072058 ], dtype=float32)>,\n",
              " <tf.Tensor: shape=(1,), dtype=float32, numpy=array([2.782], dtype=float32)>)"
            ]
          },
          "metadata": {
            "tags": []
          },
          "execution_count": 61
        }
      ]
    },
    {
      "cell_type": "code",
      "metadata": {
        "id": "O-NY4orB9-4g"
      },
      "source": [
        "# [<tf.Tensor: shape=(), dtype=float32, numpy=4.2083>,\n",
        "# <tf.Tensor: shape=(), dtype=float32, numpy=44.0>,\n",
        "# <tf.Tensor: shape=(), dtype=float32, numpy=5.3232>,\n",
        "# <tf.Tensor: shape=(), dtype=float32, numpy=0.9171>,\n",
        "# <tf.Tensor: shape=(), dtype=float32, numpy=846.0>,\n",
        "# <tf.Tensor: shape=(), dtype=float32, numpy=2.337>,\n",
        "# <tf.Tensor: shape=(), dtype=float32, numpy=37.47>,\n",
        "# <tf.Tensor: shape=(), dtype=float32, numpy=-122.2>,\n",
        "# <tf.Tensor: shape=(), dtype=float32, numpy=2.782>]\n",
        "\n",
        "# x = 4,2083, ..., -122.2\n",
        "# y = 2.782"
      ],
      "execution_count": 62,
      "outputs": []
    },
    {
      "cell_type": "code",
      "metadata": {
        "id": "JfW1RHyw-R3i"
      },
      "source": [
        "def csv_reader_dataset(filepaths, repeat=1, n_readers=5,\n",
        "                       n_read_threads=None, shuffle_buffer_size=10000,\n",
        "                       n_parse_threads=5, batch_size=32):\n",
        "    dataset = tf.data.Dataset.list_files(filepaths).repeat(repeat)\n",
        "    dataset = dataset.interleave(\n",
        "        lambda filepath: tf.data.TextLineDataset(filepath).skip(1),\n",
        "        cycle_length=n_readers, num_parallel_calls=n_read_threads)\n",
        "    dataset = dataset.shuffle(shuffle_buffer_size)\n",
        "    dataset = dataset.map(preprocess, num_parallel_calls=n_parse_threads)\n",
        "    dataset = dataset.batch(batch_size)\n",
        "    return dataset.prefetch(1)"
      ],
      "execution_count": 63,
      "outputs": []
    },
    {
      "cell_type": "code",
      "metadata": {
        "id": "-9ps7e4NAevJ",
        "outputId": "7f50c1d7-e4fc-4163-98d5-d8b8a3ffb573",
        "colab": {
          "base_uri": "https://localhost:8080/",
          "height": 444
        }
      },
      "source": [
        "tf.random.set_seed(42)\n",
        "\n",
        "train_set = csv_reader_dataset(train_filepaths, batch_size=3)\n",
        "for X_batch, y_batch in train_set.take(2):\n",
        "    print(\"X =\", X_batch)\n",
        "    print(\"y =\", y_batch)\n",
        "    print()"
      ],
      "execution_count": 64,
      "outputs": [
        {
          "output_type": "stream",
          "text": [
            "X = tf.Tensor(\n",
            "[[ 0.5804519  -0.20762321  0.05616303 -0.15191229  0.01343246  0.00604472\n",
            "   1.2525111  -1.3671792 ]\n",
            " [ 5.818099    1.8491895   1.1784915   0.28173092 -1.2496178  -0.3571987\n",
            "   0.7231292  -1.0023477 ]\n",
            " [-0.9253566   0.5834586  -0.7807257  -0.28213993 -0.36530012  0.27389365\n",
            "  -0.76194876  0.72684526]], shape=(3, 8), dtype=float32)\n",
            "y = tf.Tensor(\n",
            "[[1.752]\n",
            " [1.313]\n",
            " [1.535]], shape=(3, 1), dtype=float32)\n",
            "\n",
            "X = tf.Tensor(\n",
            "[[-0.8324941   0.6625668  -0.20741376 -0.18699841 -0.14536144  0.09635526\n",
            "   0.9807942  -0.67250353]\n",
            " [-0.62183803  0.5834586  -0.19862501 -0.3500319  -1.1437552  -0.3363751\n",
            "   1.107282   -0.8674123 ]\n",
            " [ 0.8683102   0.02970133  0.3427381  -0.29872298  0.7124906   0.28026953\n",
            "  -0.72915536  0.86178064]], shape=(3, 8), dtype=float32)\n",
            "y = tf.Tensor(\n",
            "[[0.919]\n",
            " [1.028]\n",
            " [2.182]], shape=(3, 1), dtype=float32)\n",
            "\n"
          ],
          "name": "stdout"
        }
      ]
    },
    {
      "cell_type": "code",
      "metadata": {
        "id": "pmNWgiTHAi1H"
      },
      "source": [
        "train_set = csv_reader_dataset(train_filepaths, repeat=None)\n",
        "valid_set = csv_reader_dataset(valid_filepaths)\n",
        "test_set = csv_reader_dataset(test_filepaths)"
      ],
      "execution_count": 65,
      "outputs": []
    },
    {
      "cell_type": "code",
      "metadata": {
        "id": "l1L1B0sTIqgW",
        "outputId": "e9579e8b-2767-497e-d4ff-b2ab0e13bf6a",
        "colab": {
          "base_uri": "https://localhost:8080/",
          "height": 35
        }
      },
      "source": [
        "train_set"
      ],
      "execution_count": 66,
      "outputs": [
        {
          "output_type": "execute_result",
          "data": {
            "text/plain": [
              "<PrefetchDataset shapes: ((None, 8), (None, 1)), types: (tf.float32, tf.float32)>"
            ]
          },
          "metadata": {
            "tags": []
          },
          "execution_count": 66
        }
      ]
    },
    {
      "cell_type": "code",
      "metadata": {
        "id": "Pus2Ei8aE-HF",
        "outputId": "dc096c0d-7d9c-4305-d000-1c6f6d807a15",
        "colab": {
          "base_uri": "https://localhost:8080/",
          "height": 1000
        }
      },
      "source": [
        "for item in train_set.take(1):\n",
        "    print(item)"
      ],
      "execution_count": 67,
      "outputs": [
        {
          "output_type": "stream",
          "text": [
            "(<tf.Tensor: shape=(32, 8), dtype=float32, numpy=\n",
            "array([[ 1.18324661e+00, -2.86731392e-01,  2.56954998e-01,\n",
            "        -9.14653018e-02,  6.74161077e-01,  5.36658242e-02,\n",
            "        -7.43209183e-01,  7.11849034e-01],\n",
            "       [-4.45226371e-01,  1.84918952e+00, -3.20666254e-01,\n",
            "        -1.40449286e-01, -1.06119268e-01, -6.69142455e-02,\n",
            "        -6.91677988e-01,  7.31840193e-01],\n",
            "       [ 3.09196889e-01,  5.04350424e-01,  2.08594278e-01,\n",
            "        -2.77027190e-01,  6.08453274e-01,  2.73698270e-01,\n",
            "        -8.46275151e-01,  7.81819880e-01],\n",
            "       [-1.28795540e+00,  1.45364857e+00, -5.05224824e-01,\n",
            "         2.03960374e-01, -4.95803148e-01,  4.35151726e-01,\n",
            "        -7.66634524e-01,  6.56878173e-01],\n",
            "       [-6.46088064e-01, -1.07781315e+00, -3.59055459e-01,\n",
            "         9.48920622e-02,  1.03099108e+00, -2.29778379e-01,\n",
            "        -7.24471331e-01,  9.76728678e-01],\n",
            "       [ 1.76200092e+00, -6.82272315e-01,  7.48218775e-01,\n",
            "        -2.33296052e-01, -6.32694423e-01, -3.28950375e-01,\n",
            "        -1.32412410e+00,  1.17163742e+00],\n",
            "       [-8.82408321e-01, -6.03164136e-01,  1.27520874e-01,\n",
            "        -8.90796334e-02, -4.89414871e-01, -2.11330920e-01,\n",
            "         2.01613259e+00, -1.32220197e+00],\n",
            "       [-2.11472481e-01, -4.44947749e-01, -2.81041592e-01,\n",
            "        -7.66088367e-02,  1.64973962e+00,  9.41126049e-02,\n",
            "        -7.99427927e-01,  7.81819880e-01],\n",
            "       [ 7.31399357e-01, -2.86731392e-01,  2.08306715e-01,\n",
            "        -1.28486872e-01,  1.04376757e+00,  2.93916881e-01,\n",
            "         8.87098014e-01, -1.23224378e+00],\n",
            "       [-9.08962905e-01,  2.97013279e-02, -3.84408563e-01,\n",
            "         5.40421605e-02,  3.62961560e-01,  4.81269434e-02,\n",
            "        -7.15101540e-01,  1.17163742e+00],\n",
            "       [ 9.88669991e-01,  5.04350424e-01,  1.47498306e-02,\n",
            "        -2.81318069e-01,  1.73138961e-01,  5.72082074e-03,\n",
            "        -7.10415781e-01,  6.81864262e-01],\n",
            "       [-7.34393954e-01, -2.07623214e-01, -3.63375694e-01,\n",
            "        -8.05393681e-02, -6.79237485e-01, -7.10713029e-01,\n",
            "         1.04169524e+00, -1.24723625e+00],\n",
            "       [ 3.27503729e+00, -2.07623214e-01,  6.85181141e-01,\n",
            "        -2.23821998e-01,  1.01821446e+00, -3.07035856e-02,\n",
            "        -8.79068553e-01,  6.06898427e-01],\n",
            "       [ 1.53954521e-01,  4.25242215e-01, -6.55603707e-02,\n",
            "        -1.34625837e-01,  4.68824148e-01,  1.91881478e-01,\n",
            "        -6.68252587e-01,  5.81912398e-01],\n",
            "       [-3.83894116e-01,  1.08809508e-01, -5.43491721e-01,\n",
            "        -2.14056507e-01, -6.14014454e-02,  1.80052847e-01,\n",
            "        -6.35459185e-01,  5.71914911e-01],\n",
            "       [-8.74447227e-01, -6.82272315e-01, -1.05253473e-01,\n",
            "        -1.88480273e-01, -3.12853642e-02,  4.98876870e-01,\n",
            "         3.29606682e-01,  8.71404409e-02],\n",
            "       [-7.42474571e-02, -5.24055958e-01, -5.07303655e-01,\n",
            "        -1.65777594e-01, -1.59963176e-01, -4.04022664e-01,\n",
            "         7.69978225e-01, -1.17726910e+00],\n",
            "       [ 3.58849287e-01,  5.04350424e-01,  1.70763180e-01,\n",
            "        -8.68478864e-02, -3.98154020e-01,  1.23289488e-01,\n",
            "         9.76108432e-01, -1.41715515e+00],\n",
            "       [ 4.24319208e-01, -1.15692139e+00,  3.96204680e-01,\n",
            "        -2.82479785e-02,  1.36135530e+00, -2.99455851e-01,\n",
            "        -1.16952515e+00,  1.23660576e+00],\n",
            "       [ 1.11421525e+00, -1.63157046e+00,  3.49512666e-01,\n",
            "        -1.11953646e-01,  1.28520098e+01,  4.73563746e-02,\n",
            "        -7.57264733e-01,  9.01762903e-01],\n",
            "       [-9.77732539e-01,  1.13721585e+00, -4.51955080e-01,\n",
            "        -1.43616855e-01, -5.51472247e-01,  1.70150116e-01,\n",
            "        -7.38525152e-01,  7.31840193e-01],\n",
            "       [-6.94640577e-01, -9.98705029e-01, -1.96070284e-01,\n",
            "        -1.87727824e-01, -2.72214025e-01, -8.42992365e-02,\n",
            "         9.90162194e-01, -6.42518759e-01],\n",
            "       [ 3.18572164e-01,  5.83458602e-01,  3.43575895e-01,\n",
            "        -9.57274958e-02, -5.31879701e-02, -2.57369697e-01,\n",
            "         9.43315029e-01, -7.12485790e-01],\n",
            "       [-5.63700676e-01, -1.28515035e-01, -4.69962627e-01,\n",
            "        -1.54817089e-01,  5.36357164e-01,  3.13233227e-01,\n",
            "        -7.76002586e-01,  7.31840193e-01],\n",
            "       [-3.70800078e-01,  2.67025858e-01,  9.16407779e-02,\n",
            "         6.74595460e-02, -2.74039239e-01,  3.88330251e-01,\n",
            "        -7.29155362e-01,  1.05169070e+00],\n",
            "       [-2.41902903e-01, -4.94068526e-02, -1.66961759e-01,\n",
            "        -3.02063674e-01,  5.54609358e-01, -2.16260672e-01,\n",
            "         1.39305460e+00, -8.82404685e-01],\n",
            "       [ 2.53102243e-01,  5.83458602e-01, -2.55851120e-01,\n",
            "        -3.70137751e-01, -6.54597044e-01,  2.64679715e-02,\n",
            "        -8.04111958e-01,  7.41837621e-01],\n",
            "       [ 3.45283955e-01, -1.31513774e+00,  3.90285879e-01,\n",
            "        -1.37683287e-01,  4.17718053e-01, -2.11980641e-02,\n",
            "         1.32746780e+00, -1.57708037e+00],\n",
            "       [ 1.31853390e+00, -1.15692139e+00,  4.20707822e-01,\n",
            "        -2.45102882e-01, -2.71301419e-01,  1.26349360e-01,\n",
            "         1.17287052e+00, -1.51711082e+00],\n",
            "       [ 5.23152709e-01,  5.83458602e-01,  3.49397093e-01,\n",
            "        -1.06145307e-01, -6.76499665e-01,  6.76955208e-02,\n",
            "        -8.41591120e-01,  6.11897171e-01],\n",
            "       [-2.55258679e-01, -8.40488672e-01,  2.80466467e-01,\n",
            "         8.02463815e-02, -4.37396199e-01,  1.17488399e-01,\n",
            "         4.84205663e-01,  8.71404409e-02],\n",
            "       [-3.89707774e-01,  1.84918952e+00,  5.20540588e-02,\n",
            "        -2.85251409e-01, -4.07280117e-01, -4.45685834e-01,\n",
            "        -7.24471331e-01,  9.31747675e-01]], dtype=float32)>, <tf.Tensor: shape=(32, 1), dtype=float32, numpy=\n",
            "array([[3.151  ],\n",
            "       [2.226  ],\n",
            "       [2.141  ],\n",
            "       [1.141  ],\n",
            "       [1.228  ],\n",
            "       [3.923  ],\n",
            "       [0.864  ],\n",
            "       [1.918  ],\n",
            "       [2.231  ],\n",
            "       [0.723  ],\n",
            "       [2.724  ],\n",
            "       [0.734  ],\n",
            "       [5.00001],\n",
            "       [1.986  ],\n",
            "       [1.601  ],\n",
            "       [0.529  ],\n",
            "       [2.125  ],\n",
            "       [2.545  ],\n",
            "       [1.911  ],\n",
            "       [2.539  ],\n",
            "       [2.156  ],\n",
            "       [1.164  ],\n",
            "       [1.514  ],\n",
            "       [1.768  ],\n",
            "       [0.986  ],\n",
            "       [1.64   ],\n",
            "       [1.745  ],\n",
            "       [1.783  ],\n",
            "       [3.349  ],\n",
            "       [3.344  ],\n",
            "       [1.153  ],\n",
            "       [2.912  ]], dtype=float32)>)\n"
          ],
          "name": "stdout"
        }
      ]
    },
    {
      "cell_type": "code",
      "metadata": {
        "id": "O6zwMQO0Ap9J"
      },
      "source": [
        "keras.backend.clear_session()\n",
        "np.random.seed(42)\n",
        "tf.random.set_seed(42)\n",
        "\n",
        "model = keras.models.Sequential([\n",
        "    keras.layers.Dense(30, activation=\"relu\", input_shape=X_train.shape[1:]),\n",
        "    keras.layers.Dense(1),\n",
        "])"
      ],
      "execution_count": 68,
      "outputs": []
    },
    {
      "cell_type": "code",
      "metadata": {
        "id": "tXB3d6ZfAvid",
        "outputId": "37a85919-c1ad-44ae-ac4f-364cdd0327ed",
        "colab": {
          "base_uri": "https://localhost:8080/",
          "height": 230
        }
      },
      "source": [
        "model.summary()"
      ],
      "execution_count": 69,
      "outputs": [
        {
          "output_type": "stream",
          "text": [
            "Model: \"sequential\"\n",
            "_________________________________________________________________\n",
            "Layer (type)                 Output Shape              Param #   \n",
            "=================================================================\n",
            "dense (Dense)                (None, 30)                270       \n",
            "_________________________________________________________________\n",
            "dense_1 (Dense)              (None, 1)                 31        \n",
            "=================================================================\n",
            "Total params: 301\n",
            "Trainable params: 301\n",
            "Non-trainable params: 0\n",
            "_________________________________________________________________\n"
          ],
          "name": "stdout"
        }
      ]
    },
    {
      "cell_type": "code",
      "metadata": {
        "id": "Og59uf88Arb3"
      },
      "source": [
        "model.compile(loss=\"mse\", optimizer=keras.optimizers.SGD(lr=1e-3))"
      ],
      "execution_count": 70,
      "outputs": []
    },
    {
      "cell_type": "code",
      "metadata": {
        "id": "r6omd5HrAykM",
        "outputId": "3897d56f-2dc4-4738-e2bf-5cb5c6737523",
        "colab": {
          "base_uri": "https://localhost:8080/",
          "height": 746
        }
      },
      "source": [
        "batch_size = 32\n",
        "model.fit(train_set, steps_per_epoch=len(X_train) // batch_size, epochs=20,\n",
        "          validation_data=valid_set)"
      ],
      "execution_count": 71,
      "outputs": [
        {
          "output_type": "stream",
          "text": [
            "Epoch 1/20\n",
            "362/362 [==============================] - 1s 3ms/step - loss: 1.6444 - val_loss: 0.8116\n",
            "Epoch 2/20\n",
            "362/362 [==============================] - 1s 3ms/step - loss: 0.7037 - val_loss: 0.6525\n",
            "Epoch 3/20\n",
            "362/362 [==============================] - 1s 3ms/step - loss: 0.6433 - val_loss: 0.6034\n",
            "Epoch 4/20\n",
            "362/362 [==============================] - 1s 3ms/step - loss: 0.5819 - val_loss: 0.5671\n",
            "Epoch 5/20\n",
            "362/362 [==============================] - 1s 3ms/step - loss: 0.6030 - val_loss: 0.5377\n",
            "Epoch 6/20\n",
            "362/362 [==============================] - 1s 3ms/step - loss: 0.5330 - val_loss: 0.5495\n",
            "Epoch 7/20\n",
            "362/362 [==============================] - 1s 3ms/step - loss: 0.5342 - val_loss: 0.5027\n",
            "Epoch 8/20\n",
            "362/362 [==============================] - 1s 3ms/step - loss: 0.5054 - val_loss: 0.4888\n",
            "Epoch 9/20\n",
            "362/362 [==============================] - 1s 3ms/step - loss: 0.5044 - val_loss: 0.4679\n",
            "Epoch 10/20\n",
            "362/362 [==============================] - 1s 3ms/step - loss: 0.4964 - val_loss: 0.4974\n",
            "Epoch 11/20\n",
            "362/362 [==============================] - 1s 3ms/step - loss: 0.4705 - val_loss: 0.4926\n",
            "Epoch 12/20\n",
            "362/362 [==============================] - 1s 3ms/step - loss: 0.4768 - val_loss: 0.4384\n",
            "Epoch 13/20\n",
            "362/362 [==============================] - 1s 3ms/step - loss: 0.4562 - val_loss: 0.4568\n",
            "Epoch 14/20\n",
            "362/362 [==============================] - 1s 3ms/step - loss: 0.4574 - val_loss: 0.4266\n",
            "Epoch 15/20\n",
            "362/362 [==============================] - 1s 3ms/step - loss: 0.4573 - val_loss: 0.4185\n",
            "Epoch 16/20\n",
            "362/362 [==============================] - 1s 3ms/step - loss: 0.4415 - val_loss: 0.4152\n",
            "Epoch 17/20\n",
            "362/362 [==============================] - 1s 3ms/step - loss: 0.4280 - val_loss: 0.4075\n",
            "Epoch 18/20\n",
            "362/362 [==============================] - 1s 3ms/step - loss: 0.4366 - val_loss: 0.4034\n",
            "Epoch 19/20\n",
            "362/362 [==============================] - 1s 3ms/step - loss: 0.4243 - val_loss: 0.4002\n",
            "Epoch 20/20\n",
            "362/362 [==============================] - 1s 3ms/step - loss: 0.4407 - val_loss: 0.3984\n"
          ],
          "name": "stdout"
        },
        {
          "output_type": "execute_result",
          "data": {
            "text/plain": [
              "<tensorflow.python.keras.callbacks.History at 0x7fc14edd4b00>"
            ]
          },
          "metadata": {
            "tags": []
          },
          "execution_count": 71
        }
      ]
    },
    {
      "cell_type": "code",
      "metadata": {
        "id": "WcZpwr9GAyzv",
        "outputId": "5b2c429a-da2b-4167-c81c-334ead5b6bd3",
        "colab": {
          "base_uri": "https://localhost:8080/",
          "height": 52
        }
      },
      "source": [
        "model.evaluate(test_set, steps=len(X_test) // batch_size)"
      ],
      "execution_count": 72,
      "outputs": [
        {
          "output_type": "stream",
          "text": [
            "161/161 [==============================] - 0s 2ms/step - loss: 0.4224\n"
          ],
          "name": "stdout"
        },
        {
          "output_type": "execute_result",
          "data": {
            "text/plain": [
              "0.4223783016204834"
            ]
          },
          "metadata": {
            "tags": []
          },
          "execution_count": 72
        }
      ]
    },
    {
      "cell_type": "code",
      "metadata": {
        "id": "iLplT1-2BHaC",
        "outputId": "46135d0f-014f-4aa4-c0bc-11216c635dc8",
        "colab": {
          "base_uri": "https://localhost:8080/",
          "height": 141
        }
      },
      "source": [
        "new_set = test_set.map(lambda X, y: X) # we could instead just pass test_set, Keras would ignore the labels\n",
        "X_new = X_testmodel.predict(new_set, steps=len(X_new) // batch_size)\n"
      ],
      "execution_count": 226,
      "outputs": [
        {
          "output_type": "execute_result",
          "data": {
            "text/plain": [
              "array([[2.2855759 ],\n",
              "       [2.2665212 ],\n",
              "       [1.5062004 ],\n",
              "       ...,\n",
              "       [0.53062433],\n",
              "       [3.975136  ],\n",
              "       [0.9724442 ]], dtype=float32)"
            ]
          },
          "metadata": {
            "tags": []
          },
          "execution_count": 226
        }
      ]
    },
    {
      "cell_type": "code",
      "metadata": {
        "id": "Y9-x_uWLIzbn",
        "outputId": "3f48cbd7-364f-4039-face-6f095717a596",
        "colab": {
          "base_uri": "https://localhost:8080/",
          "height": 1000
        }
      },
      "source": [
        "for item in new_set.take(1):\n",
        "    print(item)"
      ],
      "execution_count": 227,
      "outputs": [
        {
          "output_type": "stream",
          "text": [
            "tf.Tensor(\n",
            "[[ 0.16338226 -0.44494775  0.27062452 -0.26945964 -0.36712533 -0.01291615\n",
            "   1.4164782  -0.85741866]\n",
            " [-0.41867167 -1.1569214   0.9045907   0.78342044 -0.57154965 -0.15582308\n",
            "   0.7699782   0.01217846]\n",
            " [-1.1086725   1.216324   -0.4535269  -0.32382935 -0.83985656  0.30489177\n",
            "  -0.72447133  1.1416489 ]\n",
            " [-0.1615581   1.6909732  -0.4381055  -0.2916515  -0.3424849  -0.25024372\n",
            "   0.999532   -1.4571373 ]\n",
            " [-0.21456262  0.34613404 -0.12912637 -0.03085851 -0.2786023  -0.02853999\n",
            "  -0.86501473  0.8118047 ]\n",
            " [ 0.42536664 -0.36583957 -0.39545774 -0.2140565  -0.859934   -0.17871939\n",
            "  -0.89780813  0.88177174]\n",
            " [-0.3361272   0.74167496  0.20470892 -0.26127434 -1.0807853  -0.1361508\n",
            "   2.2972195  -2.271756  ]\n",
            " [ 0.58946055  0.42524222  0.15634334 -0.20662263 -0.53687054 -0.02800608\n",
            "   1.0838584  -1.2422374 ]\n",
            " [ 1.1141629   1.0581076   0.09665916 -0.14156413 -0.5578605  -0.19691937\n",
            "  -0.7853724   0.60190356]\n",
            " [ 0.17223383  0.8998913  -0.11414039 -0.35571003 -0.4492601   0.19270627\n",
            "  -0.78068835  0.7618288 ]\n",
            " [ 0.6256523   0.10880951  0.00881007 -0.09985524  0.09830505 -0.17532794\n",
            "   0.75123864 -1.1822641 ]\n",
            " [-0.7616818   1.4536486  -0.21948978 -0.18100388 -0.21106926  0.6901026\n",
            "  -0.74789494  0.6968566 ]\n",
            " [ 1.2328469  -1.2360295   0.3924749  -0.07052032 -0.21654491 -0.16967912\n",
            "  -0.72447133  0.8917654 ]\n",
            " [-1.0330416  -0.12851503 -0.16705394  0.11437876  1.1341158   0.04516451\n",
            "  -0.9259175   1.1266564 ]\n",
            " [ 0.44354105  1.8491895  -0.11500511 -0.30326393 -0.692014   -0.27711263\n",
            "  -0.752579    0.5969048 ]\n",
            " [ 0.16668193 -1.3942459  -0.1141101  -0.39497536 -0.3762514   0.25070524\n",
            "  -1.1461015   1.1516464 ]\n",
            " [-0.27720428  1.4536486  -0.32305533 -0.38303268 -0.22019534  0.15421793\n",
            "   0.9667386  -1.4071615 ]\n",
            " [ 1.5850227   0.26702586  0.5572723  -0.25174794 -1.0607078  -0.27976045\n",
            "   0.44204247 -1.1522793 ]\n",
            " [-0.26060104  0.26702586 -0.3689249  -0.13732755 -0.36895055 -0.44108662\n",
            "  -1.3288081   1.1666387 ]\n",
            " [-1.0477068  -0.2867314  -0.20060368  0.08260618 -0.46751228 -0.39285755\n",
            "   2.0067627  -0.6974934 ]\n",
            " [ 1.8471643   0.5043504   0.4167864  -0.3026508  -0.6308692  -0.18631737\n",
            "  -0.7104158   0.7518313 ]\n",
            " [ 1.1614059  -0.6822723   0.53334785 -0.21932226 -0.16635144  0.03610222\n",
            "  -0.9071779   0.81680346]\n",
            " [ 4.3563385  -0.6822723   1.3257055  -0.2140565  -0.36986315  0.09972589\n",
            "  -0.85564494  0.8867705 ]\n",
            " [ 0.44621238 -1.4733541   0.17517635 -0.01082836 -0.2786023   0.02772015\n",
            "  -0.55581856  0.6568782 ]\n",
            " [ 1.4239143  -1.0778131   0.73901343 -0.04363639  0.82109106  0.02678096\n",
            "   1.3368375  -1.562088  ]\n",
            " [ 0.60417825  0.34613404  0.10816904 -0.17832421 -0.20376839 -0.19564195\n",
            "   0.8074556  -1.2272451 ]\n",
            " [-0.41882887 -1.1569214   4.397617    7.391635   -0.98769915 -0.19586691\n",
            "   0.9339452   0.30703908]\n",
            " [ 0.25011674 -1.0778131   0.6816179   0.5260272   1.7364374  -0.36411452\n",
            "  -0.691678    0.15711132]\n",
            " [-1.0260756   1.8491895  -0.34970915 -0.18991706 -0.42553228 -0.34135017\n",
            "   1.0370111  -1.347188  ]\n",
            " [-0.6272852  -1.3942459   0.05624361 -0.03057423  0.5929389   0.11079548\n",
            "   0.60132545 -0.22771132]\n",
            " [-0.384156   -0.998705    0.06526122 -0.1389372  -0.5770253  -0.08030716\n",
            "   1.4586413  -0.81243765]\n",
            " [-0.2837513   0.74167496 -0.36191493 -0.16017774 -0.40545487  0.04795237\n",
            "  -0.86501473  0.6568782 ]], shape=(32, 8), dtype=float32)\n"
          ],
          "name": "stdout"
        }
      ]
    },
    {
      "cell_type": "code",
      "metadata": {
        "id": "tNOKGWn4Ba-4",
        "outputId": "c84a3344-156d-4fda-f66d-3f7f33fd2d32",
        "colab": {
          "base_uri": "https://localhost:8080/",
          "height": 1000
        }
      },
      "source": [
        "for item in test_set.take(1):\n",
        "    print(item)"
      ],
      "execution_count": 228,
      "outputs": [
        {
          "output_type": "stream",
          "text": [
            "(<tf.Tensor: shape=(32, 8), dtype=float32, numpy=\n",
            "array([[ 0.02526688,  0.26702586,  0.09454363, -0.26460737, -0.45838618,\n",
            "        -0.10464293, -0.71510154,  0.7868148 ],\n",
            "       [-0.11468165, -0.2867314 , -1.0918899 ,  0.29259846, -0.759547  ,\n",
            "        -0.68454146,  1.0135876 , -1.4121602 ],\n",
            "       [ 0.10440702,  1.1372159 , -0.6544708 , -0.31728342, -0.53687054,\n",
            "        -0.18987034,  0.8121414 , -1.2172476 ],\n",
            "       [ 0.8226907 , -1.5524622 ,  0.6050607 , -0.11830544,  1.8486884 ,\n",
            "         0.103531  , -0.8415911 ,  1.0916729 ],\n",
            "       [-0.53374165,  0.34613404, -0.5336829 , -0.04246955, -0.1736523 ,\n",
            "        -0.38351378,  0.44672647, -1.1572781 ],\n",
            "       [ 2.2755468 , -1.3942459 ,  0.22913691,  0.01118025, -0.97583526,\n",
            "        -0.04063872,  0.8730424 , -1.4571373 ],\n",
            "       [-0.24043639,  0.5043504 ,  0.16758156, -0.13050707, -0.28864098,\n",
            "         0.05035667, -0.4480686 ,  0.7218465 ],\n",
            "       [-1.0805466 ,  1.8491895 , -0.36819142, -0.03761702, -1.0123396 ,\n",
            "        -0.6085963 ,  1.2431414 , -1.3521868 ],\n",
            "       [ 1.4530876 ,  0.26702586,  0.5505181 ,  0.11864658, -0.13441013,\n",
            "        -0.36210915, -1.3756571 ,  1.1716374 ],\n",
            "       [-0.48890778,  0.6625668 , -0.10035232, -0.36902392, -0.6838005 ,\n",
            "        -0.3158118 , -0.79474217,  1.0866742 ],\n",
            "       [-0.46271983, -0.8404887 , -0.45989892, -0.11677006,  1.438927  ,\n",
            "         0.34555045, -0.66356856,  0.5969048 ],\n",
            "       [ 0.19852655,  1.8491895 , -0.15301365, -0.14087468, -0.56881183,\n",
            "        -0.4276996 ,  0.9854782 , -1.4271526 ],\n",
            "       [ 0.39593136,  0.5834586 ,  0.04473187, -0.27338147, -0.02763493,\n",
            "        -0.08865985, -0.83690536,  0.8217984 ],\n",
            "       [ 0.24875511,  0.5834586 , -0.21262772, -0.19248609,  0.09830505,\n",
            "         0.04973301, -0.8087977 ,  0.7068541 ],\n",
            "       [ 5.818099  ,  0.5043504 ,  1.2273736 , -0.0658901 , -1.0552322 ,\n",
            "         2.6605256 , -0.7104158 ,  0.77182245],\n",
            "       [-0.58810794, -0.04940685, -0.60476476, -0.12119795,  0.18043983,\n",
            "         0.09645794, -0.5651884 , -0.11776199],\n",
            "       [-0.65562046,  1.2954322 , -0.23856902, -0.08767922, -0.1097697 ,\n",
            "        -0.04993181,  1.0698045 , -1.3771728 ],\n",
            "       [ 0.11681999,  1.8491895 , -0.2559852 , -0.03777657,  0.7499076 ,\n",
            "        -0.27749732,  1.0042177 , -1.4471437 ],\n",
            "       [-0.60806316,  1.2954322 , -0.44843057, -0.17412323, -0.3005049 ,\n",
            "         0.4708116 , -0.86501473,  0.686863  ],\n",
            "       [ 1.8207668 ,  0.74167496,  0.5331962 , -0.23020992, -0.0677897 ,\n",
            "        -0.17840093,  0.83556503, -1.3072058 ],\n",
            "       [ 0.15416406,  1.8491895 , -0.50282   , -0.19630112, -0.7768866 ,\n",
            "        -0.25031886, -0.7760026 ,  0.56692   ],\n",
            "       [-0.6256091 ,  0.1879177 , -0.12780488, -0.07125229,  0.6148415 ,\n",
            "         0.0593295 , -1.3616015 ,  1.2865818 ],\n",
            "       [-0.4383127 , -1.7106786 , -0.10178262, -0.07574677,  0.7289176 ,\n",
            "        -0.24293987,  2.311275  , -1.3771728 ],\n",
            "       [-0.8526064 ,  1.8491895 , -0.18918167, -0.0334378 , -0.81795394,\n",
            "        -0.2636523 ,  1.107282  , -1.112297  ],\n",
            "       [-0.37975642,  0.5834586 , -0.15741242, -0.2140565 ,  0.408592  ,\n",
            "         0.28930396, -0.82285154,  0.6768655 ],\n",
            "       [-0.43794608, -0.8404887 ,  0.00706642, -0.2532203 , -0.3333588 ,\n",
            "        -0.08514261,  2.2269487 , -1.322202  ],\n",
            "       [ 0.98133737,  0.5043504 ,  0.1174484 , -0.17485185, -0.62174314,\n",
            "        -0.10467938, -0.84627515,  0.6118972 ],\n",
            "       [ 0.5368227 ,  0.34613404,  0.39155295, -0.01874627, -1.216764  ,\n",
            "        -0.08524287,  1.2197177 , -1.327197  ],\n",
            "       [ 0.14457923, -1.3942459 , -0.13284832, -0.01439495,  1.8441253 ,\n",
            "        -0.32438472, -0.96339494,  0.94174516],\n",
            "       [ 0.08691342, -0.91959685,  0.16251662, -0.2140565 , -0.29594186,\n",
            "        -0.11407737,  0.3108689 ,  0.12712272],\n",
            "       [-0.12966116, -0.91959685, -0.3416548 , -0.12521249, -0.24027273,\n",
            "        -0.3288482 , -0.86501473,  0.75683004],\n",
            "       [ 1.0407317 , -1.3151377 ,  0.9113834 , -0.00700744,  0.9671084 ,\n",
            "        -0.1629442 , -0.7197856 ,  0.3720112 ]], dtype=float32)>, <tf.Tensor: shape=(32, 1), dtype=float32, numpy=\n",
            "array([[2.784  ],\n",
            "       [5.00001],\n",
            "       [2.246  ],\n",
            "       [2.236  ],\n",
            "       [2.25   ],\n",
            "       [3.718  ],\n",
            "       [1.003  ],\n",
            "       [1.469  ],\n",
            "       [5.00001],\n",
            "       [1.321  ],\n",
            "       [1.819  ],\n",
            "       [3.689  ],\n",
            "       [1.947  ],\n",
            "       [1.718  ],\n",
            "       [5.00001],\n",
            "       [2.282  ],\n",
            "       [1.121  ],\n",
            "       [4.578  ],\n",
            "       [1.39   ],\n",
            "       [5.00001],\n",
            "       [3.632  ],\n",
            "       [1.352  ],\n",
            "       [1.017  ],\n",
            "       [1.285  ],\n",
            "       [1.177  ],\n",
            "       [0.955  ],\n",
            "       [3.43   ],\n",
            "       [1.875  ],\n",
            "       [1.909  ],\n",
            "       [1.073  ],\n",
            "       [1.931  ],\n",
            "       [5.00001]], dtype=float32)>)\n"
          ],
          "name": "stdout"
        }
      ]
    },
    {
      "cell_type": "code",
      "metadata": {
        "id": "EpMb0Y5tGuE5",
        "outputId": "3622b0d0-1df4-4e8c-a6e9-da2c2ace16d2",
        "colab": {
          "base_uri": "https://localhost:8080/",
          "height": 177
        }
      },
      "source": [
        "# Prediction\n",
        "filepath = '/content/my_test_00.csv'\n",
        "x = lambda filepath: tf.data.TextLineDataset(filepath).skip(1)\n",
        "a = x(filepath)\n",
        "for filepath in a:\n",
        "    print(filepath)"
      ],
      "execution_count": 229,
      "outputs": [
        {
          "output_type": "stream",
          "text": [
            "tf.Tensor(b'1.6812,25.0,4.192200557103064,1.0222841225626742,1392.0,3.8774373259052926,36.06,-119.01,0.477', shape=(), dtype=string)\n",
            "tf.Tensor(b'2.5313,30.0,5.039383561643835,1.1934931506849316,1565.0,2.6797945205479454,35.14,-119.46,0.458', shape=(), dtype=string)\n",
            "tf.Tensor(b'3.4801,52.0,3.977154724818276,1.185877466251298,1310.0,1.3603322949117342,37.8,-122.44,5.00001', shape=(), dtype=string)\n",
            "tf.Tensor(b'5.7376,17.0,6.163636363636364,1.02020202020202,1705.0,3.4444444444444446,34.28,-118.72,2.186', shape=(), dtype=string)\n",
            "tf.Tensor(b'3.725,34.0,5.492990654205608,1.02803738317757,1063.0,2.4836448598130842,36.62,-121.93,2.78', shape=(), dtype=string)\n",
            "tf.Tensor(b'4.7147,12.0,5.251482799525504,0.9750889679715302,2400.0,2.8469750889679717,34.08,-117.61,1.587', shape=(), dtype=string)\n",
            "tf.Tensor(b'5.0839,36.0,6.221719457013575,1.0950226244343892,670.0,3.0316742081447963,33.89,-118.02,1.982', shape=(), dtype=string)\n",
            "tf.Tensor(b'3.6908,38.0,4.962825278810409,1.0483271375464684,1011.0,3.758364312267658,33.92,-118.08,1.575', shape=(), dtype=string)\n",
            "tf.Tensor(b'4.8036,4.0,3.9246575342465753,1.0359589041095891,1050.0,1.797945205479452,37.39,-122.08,3.4', shape=(), dtype=string)\n"
          ],
          "name": "stdout"
        }
      ]
    },
    {
      "cell_type": "code",
      "metadata": {
        "id": "X5msEm-QLk3R"
      },
      "source": [
        "test_set = csv_reader_dataset(['/content/my_test_00.csv'])"
      ],
      "execution_count": 244,
      "outputs": []
    },
    {
      "cell_type": "code",
      "metadata": {
        "id": "ON4HplYhMtPA",
        "outputId": "93383561-c123-428f-d270-83eedacca054",
        "colab": {
          "base_uri": "https://localhost:8080/",
          "height": 35
        }
      },
      "source": [
        "new_set = test_set.take(3).map(lambda X, y: X) # we could instead just pass test_set, Keras would ignore the labels\n",
        "model.predict(new_set)"
      ],
      "execution_count": 250,
      "outputs": [
        {
          "output_type": "execute_result",
          "data": {
            "text/plain": [
              "array([[0.39459643]], dtype=float32)"
            ]
          },
          "metadata": {
            "tags": []
          },
          "execution_count": 250
        }
      ]
    },
    {
      "cell_type": "code",
      "metadata": {
        "id": "kynYLes2N85l",
        "outputId": "b863ab44-8e27-4f03-f006-40ce2341c8f9",
        "colab": {
          "base_uri": "https://localhost:8080/",
          "height": 70
        }
      },
      "source": [
        "for item in test_set.take(3):\n",
        "    print(item)"
      ],
      "execution_count": 251,
      "outputs": [
        {
          "output_type": "stream",
          "text": [
            "(<tf.Tensor: shape=(1, 8), dtype=float32, numpy=\n",
            "array([[-1.157801  , -0.2867314 , -0.49550867, -0.16618097, -0.02946015,\n",
            "         0.38899735,  0.1937491 ,  0.28704795]], dtype=float32)>, <tf.Tensor: shape=(1, 1), dtype=float32, numpy=array([[0.477]], dtype=float32)>)\n"
          ],
          "name": "stdout"
        }
      ]
    },
    {
      "cell_type": "code",
      "metadata": {
        "id": "pzQc9_yHNJDx"
      },
      "source": [
        ""
      ],
      "execution_count": null,
      "outputs": []
    }
  ]
}